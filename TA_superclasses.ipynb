{
 "cells": [
  {
   "cell_type": "code",
   "execution_count": 30,
   "metadata": {},
   "outputs": [
    {
     "ename": "",
     "evalue": "",
     "output_type": "error",
     "traceback": [
      "\u001b[1;31m커널을 시작하지 못했습니다. \n",
      "\u001b[1;31m커널 'base (Python 3.12.4)'을(를) 시작하지 못했습니다. \n",
      "\u001b[1;31m자세한 내용은 Jupyter <a href='command:jupyter.viewOutput'>로그</a>을 참조하세요. Cannot find module '@jupyterlab/services'\n",
      "\u001b[1;31mRequire stack:\n",
      "\u001b[1;31m- /home/k1a22015/.cursor-server/extensions/ms-toolsai.jupyter-2024.8.1-linux-x64/dist/extension.node.js\n",
      "\u001b[1;31m- /home/k1a22015/.cursor-server/extensions/ms-toolsai.jupyter-2024.8.1-linux-x64/dist/extension.node.proxy.js\n",
      "\u001b[1;31m- /home/k1a22015/.cursor-server/cli/servers/Stable-001668006cc714afd397f4ef0d52862f5a095530/server/out/bootstrap-fork.js"
     ]
    }
   ],
   "source": [
    "import torchvision.transforms as transforms\n",
    "import torchvision\n",
    "from torch.utils.data import DataLoader\n",
    "import numpy as np\n",
    "import inceptionID\n",
    "import torch"
   ]
  },
  {
   "cell_type": "code",
   "execution_count": 31,
   "metadata": {},
   "outputs": [
    {
     "name": "stdout",
     "output_type": "stream",
     "text": [
      "The autoreload extension is already loaded. To reload it, use:\n",
      "  %reload_ext autoreload\n"
     ]
    }
   ],
   "source": [
    "%load_ext autoreload\n",
    "%autoreload 2"
   ]
  },
  {
   "cell_type": "code",
   "execution_count": 32,
   "metadata": {},
   "outputs": [
    {
     "name": "stdout",
     "output_type": "stream",
     "text": [
      "Files already downloaded and verified\n"
     ]
    },
    {
     "name": "stderr",
     "output_type": "stream",
     "text": [
      "/home/guest/anaconda3/envs/kyumly/lib/python3.10/site-packages/torchvision/models/_utils.py:208: UserWarning: The parameter 'pretrained' is deprecated since 0.13 and may be removed in the future, please use 'weights' instead.\n",
      "  warnings.warn(\n",
      "/home/guest/anaconda3/envs/kyumly/lib/python3.10/site-packages/torchvision/models/_utils.py:223: UserWarning: Arguments other than a weight enum or `None` for 'weights' are deprecated since 0.13 and may be removed in the future. The current behavior is equivalent to passing `weights=Inception_V3_Weights.IMAGENET1K_V1`. You can also use `weights=Inception_V3_Weights.DEFAULT` to get the most up-to-date weights.\n",
      "  warnings.warn(msg)\n"
     ]
    }
   ],
   "source": [
    "norm_mean = [0.5,0.5,0.5]\n",
    "norm_std = [0.5,0.5,0.5]\n",
    "image_size = 32,32\n",
    "\n",
    "\n",
    "train_transform = []\n",
    "train_transform = transforms.Compose(train_transform + [\n",
    "                     transforms.ToTensor(),\n",
    "                        transforms.Resize((299, 299)),\n",
    "                     transforms.Normalize(norm_mean, norm_std)])\n",
    "\n",
    "\n",
    "train_dataset = torchvision.datasets.CIFAR100(\n",
    "    root=\"./data\",  # 데이터 저장 경로\n",
    "    train=True,     # 학습용 데이터셋\n",
    "    download=True,  # 데이터셋 다운로드\n",
    "    transform=train_transform\n",
    ")\n",
    "\n",
    "train_loader = DataLoader(train_dataset, batch_size=64,\n",
    "                              shuffle=True)\n",
    "net = inceptionID.load_inception_net()"
   ]
  },
  {
   "cell_type": "markdown",
   "metadata": {},
   "source": [
    "# output score"
   ]
  },
  {
   "cell_type": "code",
   "execution_count": 33,
   "metadata": {},
   "outputs": [
    {
     "name": "stderr",
     "output_type": "stream",
     "text": [
      "/home/guest/anaconda3/envs/kyumly/lib/python3.10/site-packages/torchvision/transforms/functional.py:1603: UserWarning: The default value of the antialias parameter of all the resizing transforms (Resize(), RandomResizedCrop(), etc.) will change from None to True in v0.17, in order to be consistent across the PIL and Tensor backends. To suppress this warning, directly pass antialias=True (recommended, future default), antialias=None (current default, which means False for Tensors and True for PIL), or antialias=False (only works on Tensors - PIL will still use antialiasing). This also applies if you are using the inference transforms from the models weights: update the call to weights.transforms(antialias=True).\n",
      "  warnings.warn(\n"
     ]
    }
   ],
   "source": [
    "pool, logits, labels = inceptionID.get_net_output(device=\"cuda:0\", train_loader=train_loader, net=net)\n",
    "mu_data, sigma_data = np.mean(pool, axis=0), np.cov(pool, rowvar=False)"
   ]
  },
  {
   "cell_type": "markdown",
   "metadata": {},
   "source": [
    "# TA Code"
   ]
  },
  {
   "cell_type": "code",
   "execution_count": 34,
   "metadata": {},
   "outputs": [],
   "source": [
    "import utils\n",
    "import inception_utils\n",
    "import test_model\n",
    "import torch"
   ]
  },
  {
   "cell_type": "code",
   "execution_count": null,
   "metadata": {},
   "outputs": [],
   "source": [
    "sample = test_model.get_model()\n",
    "\"\"\"\n",
    "Sample labels\n",
    "tensor([ 0,  1,  2,  3,  4,  5,  6,  7,  8,  9, 10, 11, 12, 13, 14, 15, 16, 17,\n",
    "        18, 19,  0,  1,  2,  3,  4,  5,  6,  7,  8,  9, 10, 11, 12, 13, 14, 15,\n",
    "        16, 17, 18, 19,  0,  1,  2,  3,  4,  5,  6,  7,  8,  9, 10, 11, 12, 13,\n",
    "        14, 15, 16, 17, 18, 19,  0,  1,  2,  3,  4,  5,  6,  7,  8,  9, 10, 11,\n",
    "        12, 13, 14, 15, 16, 17, 18, 19,  0,  1,  2,  3,  4,  5,  6,  7,  8,  9,\n",
    "        10, 11, 12, 13, 14, 15, 16, 17, 18, 19,  0,  1,  2,  3,  4,  5,  6,  7,\n",
    "         8,  9, 10, 11, 12, 13, 14, 15, 16, 17, 18, 19,  0,  1,  2,  3,  4,  5,\n",
    "         6,  7,  8,  9, 10, 11, 12, 13, 14, 15, 16, 17, 18, 19,  0,  1,  2,  3,\n",
    "         4,  5,  6,  7,  8,  9, 10, 11, 12, 13, 14, 15, 16, 17, 18, 19,  0,  1,\n",
    "         2,  3,  4,  5,  6,  7,  8,  9, 10, 11, 12, 13, 14, 15, 16, 17, 18, 19,\n",
    "         0,  1,  2,  3,  4,  5,  6,  7,  8,  9, 10, 11, 12, 13, 14, 15, 16, 17,\n",
    "        18, 19,  0,  1,  2,  3,  4,  5,  6,  7,  8,  9, 10, 11, 12, 13, 14, 15,\n",
    "        16, 17, 18, 19,  0,  1,  2,  3,  4,  5,  6,  7,  8,  9, 10, 11, 12, 13,\n",
    "        14, 15, 16, 17, 18, 19,  0,  1,  2,  3,  4,  5,  6,  7,  8,  9, 10, 11,\n",
    "        12, 13, 14, 15, 16, 17, 18, 19,  0,  1,  2,  3,  4,  5,  6,  7,  8,  9,\n",
    "        10, 11, 12, 13, 14, 15, 16, 17, 18, 19,  0,  1,  2,  3,  4,  5,  6,  7,\n",
    "         8,  9, 10, 11, 12, 13, 14, 15, 16, 17, 18, 19,  0,  1,  2,  3,  4,  5,\n",
    "         6,  7,  8,  9, 10, 11, 12, 13, 14, 15, 16, 17, 18, 19,  0,  1,  2,  3,\n",
    "         4,  5,  6,  7,  8,  9, 10, 11, 12, 13, 14, 15, 16, 17, 18, 19,  0,  1,\n",
    "         2,  3,  4,  5,  6,  7,  8,  9, 10, 11, 12, 13, 14, 15, 16, 17, 18, 19,\n",
    "         0,  1,  2,  3,  4,  5,  6,  7,  8,  9, 10, 11, 12, 13, 14, 15, 16, 17,\n",
    "        18, 19,  0,  1,  2,  3,  4,  5,  6,  7,  8,  9, 10, 11, 12, 13, 14, 15,\n",
    "        16, 17, 18, 19], device='cuda:0')\n",
    "\"\"\""
   ]
  },
  {
   "cell_type": "code",
   "execution_count": null,
   "metadata": {},
   "outputs": [],
   "source": [
    "g_pool, g_logits, g_labels = inceptionID.accumulate_inception_activations(sample, net, 50000)\n",
    "\n",
    "g_pool = g_pool[:50000]\n",
    "g_logits= g_logits[:50000]\n",
    "g_labels = g_labels[:50000]"
   ]
  },
  {
   "cell_type": "code",
   "execution_count": 37,
   "metadata": {},
   "outputs": [],
   "source": [
    "mu, sigma = np.mean(g_pool.cpu().numpy(), axis=0), np.cov(g_pool.cpu().numpy(), rowvar=False)"
   ]
  },
  {
   "cell_type": "markdown",
   "metadata": {},
   "source": [
    "# Fid"
   ]
  },
  {
   "cell_type": "code",
   "execution_count": 38,
   "metadata": {},
   "outputs": [
    {
     "name": "stdout",
     "output_type": "stream",
     "text": [
      "FID :  14.924873643013473\n"
     ]
    }
   ],
   "source": [
    "print(\"FID : \", inceptionID.calculate_fid(mu_data, sigma_data, mu, sigma))"
   ]
  },
  {
   "cell_type": "markdown",
   "metadata": {},
   "source": [
    "# Inception Score"
   ]
  },
  {
   "cell_type": "code",
   "execution_count": 43,
   "metadata": {},
   "outputs": [
    {
     "name": "stdout",
     "output_type": "stream",
     "text": [
      "mean :  7.478038\n",
      "cov :  0.07366919\n"
     ]
    }
   ],
   "source": [
    "m, cov = inceptionID.calculate_inception_score(g_logits.cpu().numpy(), 10)\n",
    "print(\"mean : \", m)\n",
    "print(\"cov : \", cov)"
   ]
  },
  {
   "cell_type": "markdown",
   "metadata": {},
   "source": [
    "# Intra-FID"
   ]
  },
  {
   "cell_type": "code",
   "execution_count": 44,
   "metadata": {},
   "outputs": [],
   "source": [
    "intra_fids_mean, intra_fids = inceptionID.calculate_intra_fid(pool, logits, labels, g_pool, g_logits, g_labels, chage_superclass=False)"
   ]
  },
  {
   "cell_type": "code",
   "execution_count": 45,
   "metadata": {},
   "outputs": [
    {
     "name": "stdout",
     "output_type": "stream",
     "text": [
      "intra-FID :  46.34091647828037\n"
     ]
    }
   ],
   "source": [
    "print(\"intra-FID : \", intra_fids_mean)"
   ]
  },
  {
   "cell_type": "code",
   "execution_count": 46,
   "metadata": {},
   "outputs": [
    {
     "name": "stdout",
     "output_type": "stream",
     "text": [
      "superclass intra-score 0: 35.37242545110355\n",
      "superclass intra-score 1: 40.76764274817697\n",
      "superclass intra-score 2: 47.01237379506589\n",
      "superclass intra-score 3: 54.3846572107434\n",
      "superclass intra-score 4: 47.56440274994061\n",
      "superclass intra-score 5: 77.66416950258773\n",
      "superclass intra-score 6: 50.945494600937934\n",
      "superclass intra-score 7: 55.06237124553099\n",
      "superclass intra-score 8: 45.748488985951646\n",
      "superclass intra-score 9: 45.00419046784725\n",
      "superclass intra-score 10: 30.224697363929007\n",
      "superclass intra-score 11: 47.94972677437583\n",
      "superclass intra-score 12: 37.539821092412865\n",
      "superclass intra-score 13: 53.585968736425826\n",
      "superclass intra-score 14: 44.639385241380864\n",
      "superclass intra-score 15: 47.21140427043325\n",
      "superclass intra-score 16: 37.671049535219154\n",
      "superclass intra-score 17: 31.564057395988193\n",
      "superclass intra-score 18: 48.24949023157217\n",
      "superclass intra-score 19: 48.6565121659843\n"
     ]
    }
   ],
   "source": [
    "for i in range(len(intra_fids)):\n",
    "    print(f\"superclass intra-score {i}: {intra_fids[i]}\")"
   ]
  }
 ],
 "metadata": {
  "kernelspec": {
   "display_name": "kyumly",
   "language": "python",
   "name": "python3"
  },
  "language_info": {
   "codemirror_mode": {
    "name": "ipython",
    "version": 3
   },
   "file_extension": ".py",
   "mimetype": "text/x-python",
   "name": "python",
   "nbconvert_exporter": "python",
   "pygments_lexer": "ipython3",
   "version": "3.12.4"
  }
 },
 "nbformat": 4,
 "nbformat_minor": 2
}
