{
 "cells": [
  {
   "cell_type": "code",
   "execution_count": 1,
   "metadata": {},
   "outputs": [],
   "source": [
    "import torch\n",
    "\n",
    "from torchvision import models, transforms, datasets\n",
    "\n",
    "from torchinfo import summary"
   ]
  },
  {
   "cell_type": "code",
   "execution_count": 2,
   "metadata": {},
   "outputs": [],
   "source": [
    "batch_size = 128\n",
    "num_worker = 4\n",
    "max_learning_rate = 0.1\n",
    "weight_decay = 1e-5\n",
    "nesterov=True\n",
    "\n",
    "num_epoch = 300"
   ]
  },
  {
   "cell_type": "code",
   "execution_count": 3,
   "metadata": {},
   "outputs": [
    {
     "name": "stderr",
     "output_type": "stream",
     "text": [
      "/home/k1a22015/anaconda3/lib/python3.12/site-packages/torchvision/models/_utils.py:208: UserWarning: The parameter 'pretrained' is deprecated since 0.13 and may be removed in the future, please use 'weights' instead.\n",
      "  warnings.warn(\n",
      "/home/k1a22015/anaconda3/lib/python3.12/site-packages/torchvision/models/_utils.py:223: UserWarning: Arguments other than a weight enum or `None` for 'weights' are deprecated since 0.13 and may be removed in the future. The current behavior is equivalent to passing `weights=Inception_V3_Weights.IMAGENET1K_V1`. You can also use `weights=Inception_V3_Weights.DEFAULT` to get the most up-to-date weights.\n",
      "  warnings.warn(msg)\n"
     ]
    }
   ],
   "source": [
    "model = models.inception_v3(pretrained=True)"
   ]
  },
  {
   "cell_type": "code",
   "execution_count": 4,
   "metadata": {},
   "outputs": [
    {
     "data": {
      "text/plain": [
       "==========================================================================================\n",
       "Layer (type:depth-idx)                   Output Shape              Param #\n",
       "==========================================================================================\n",
       "Inception3                               [1, 1000]                 3,326,696\n",
       "├─BasicConv2d: 1-1                       [1, 32, 149, 149]         --\n",
       "│    └─Conv2d: 2-1                       [1, 32, 149, 149]         864\n",
       "│    └─BatchNorm2d: 2-2                  [1, 32, 149, 149]         64\n",
       "├─BasicConv2d: 1-2                       [1, 32, 147, 147]         --\n",
       "│    └─Conv2d: 2-3                       [1, 32, 147, 147]         9,216\n",
       "│    └─BatchNorm2d: 2-4                  [1, 32, 147, 147]         64\n",
       "├─BasicConv2d: 1-3                       [1, 64, 147, 147]         --\n",
       "│    └─Conv2d: 2-5                       [1, 64, 147, 147]         18,432\n",
       "│    └─BatchNorm2d: 2-6                  [1, 64, 147, 147]         128\n",
       "├─MaxPool2d: 1-4                         [1, 64, 73, 73]           --\n",
       "├─BasicConv2d: 1-5                       [1, 80, 73, 73]           --\n",
       "│    └─Conv2d: 2-7                       [1, 80, 73, 73]           5,120\n",
       "│    └─BatchNorm2d: 2-8                  [1, 80, 73, 73]           160\n",
       "├─BasicConv2d: 1-6                       [1, 192, 71, 71]          --\n",
       "│    └─Conv2d: 2-9                       [1, 192, 71, 71]          138,240\n",
       "│    └─BatchNorm2d: 2-10                 [1, 192, 71, 71]          384\n",
       "├─MaxPool2d: 1-7                         [1, 192, 35, 35]          --\n",
       "├─InceptionA: 1-8                        [1, 256, 35, 35]          --\n",
       "│    └─BasicConv2d: 2-11                 [1, 64, 35, 35]           --\n",
       "│    │    └─Conv2d: 3-1                  [1, 64, 35, 35]           12,288\n",
       "│    │    └─BatchNorm2d: 3-2             [1, 64, 35, 35]           128\n",
       "│    └─BasicConv2d: 2-12                 [1, 48, 35, 35]           --\n",
       "│    │    └─Conv2d: 3-3                  [1, 48, 35, 35]           9,216\n",
       "│    │    └─BatchNorm2d: 3-4             [1, 48, 35, 35]           96\n",
       "│    └─BasicConv2d: 2-13                 [1, 64, 35, 35]           --\n",
       "│    │    └─Conv2d: 3-5                  [1, 64, 35, 35]           76,800\n",
       "│    │    └─BatchNorm2d: 3-6             [1, 64, 35, 35]           128\n",
       "│    └─BasicConv2d: 2-14                 [1, 64, 35, 35]           --\n",
       "│    │    └─Conv2d: 3-7                  [1, 64, 35, 35]           12,288\n",
       "│    │    └─BatchNorm2d: 3-8             [1, 64, 35, 35]           128\n",
       "│    └─BasicConv2d: 2-15                 [1, 96, 35, 35]           --\n",
       "│    │    └─Conv2d: 3-9                  [1, 96, 35, 35]           55,296\n",
       "│    │    └─BatchNorm2d: 3-10            [1, 96, 35, 35]           192\n",
       "│    └─BasicConv2d: 2-16                 [1, 96, 35, 35]           --\n",
       "│    │    └─Conv2d: 3-11                 [1, 96, 35, 35]           82,944\n",
       "│    │    └─BatchNorm2d: 3-12            [1, 96, 35, 35]           192\n",
       "│    └─BasicConv2d: 2-17                 [1, 32, 35, 35]           --\n",
       "│    │    └─Conv2d: 3-13                 [1, 32, 35, 35]           6,144\n",
       "│    │    └─BatchNorm2d: 3-14            [1, 32, 35, 35]           64\n",
       "├─InceptionA: 1-9                        [1, 288, 35, 35]          --\n",
       "│    └─BasicConv2d: 2-18                 [1, 64, 35, 35]           --\n",
       "│    │    └─Conv2d: 3-15                 [1, 64, 35, 35]           16,384\n",
       "│    │    └─BatchNorm2d: 3-16            [1, 64, 35, 35]           128\n",
       "│    └─BasicConv2d: 2-19                 [1, 48, 35, 35]           --\n",
       "│    │    └─Conv2d: 3-17                 [1, 48, 35, 35]           12,288\n",
       "│    │    └─BatchNorm2d: 3-18            [1, 48, 35, 35]           96\n",
       "│    └─BasicConv2d: 2-20                 [1, 64, 35, 35]           --\n",
       "│    │    └─Conv2d: 3-19                 [1, 64, 35, 35]           76,800\n",
       "│    │    └─BatchNorm2d: 3-20            [1, 64, 35, 35]           128\n",
       "│    └─BasicConv2d: 2-21                 [1, 64, 35, 35]           --\n",
       "│    │    └─Conv2d: 3-21                 [1, 64, 35, 35]           16,384\n",
       "│    │    └─BatchNorm2d: 3-22            [1, 64, 35, 35]           128\n",
       "│    └─BasicConv2d: 2-22                 [1, 96, 35, 35]           --\n",
       "│    │    └─Conv2d: 3-23                 [1, 96, 35, 35]           55,296\n",
       "│    │    └─BatchNorm2d: 3-24            [1, 96, 35, 35]           192\n",
       "│    └─BasicConv2d: 2-23                 [1, 96, 35, 35]           --\n",
       "│    │    └─Conv2d: 3-25                 [1, 96, 35, 35]           82,944\n",
       "│    │    └─BatchNorm2d: 3-26            [1, 96, 35, 35]           192\n",
       "│    └─BasicConv2d: 2-24                 [1, 64, 35, 35]           --\n",
       "│    │    └─Conv2d: 3-27                 [1, 64, 35, 35]           16,384\n",
       "│    │    └─BatchNorm2d: 3-28            [1, 64, 35, 35]           128\n",
       "├─InceptionA: 1-10                       [1, 288, 35, 35]          --\n",
       "│    └─BasicConv2d: 2-25                 [1, 64, 35, 35]           --\n",
       "│    │    └─Conv2d: 3-29                 [1, 64, 35, 35]           18,432\n",
       "│    │    └─BatchNorm2d: 3-30            [1, 64, 35, 35]           128\n",
       "│    └─BasicConv2d: 2-26                 [1, 48, 35, 35]           --\n",
       "│    │    └─Conv2d: 3-31                 [1, 48, 35, 35]           13,824\n",
       "│    │    └─BatchNorm2d: 3-32            [1, 48, 35, 35]           96\n",
       "│    └─BasicConv2d: 2-27                 [1, 64, 35, 35]           --\n",
       "│    │    └─Conv2d: 3-33                 [1, 64, 35, 35]           76,800\n",
       "│    │    └─BatchNorm2d: 3-34            [1, 64, 35, 35]           128\n",
       "│    └─BasicConv2d: 2-28                 [1, 64, 35, 35]           --\n",
       "│    │    └─Conv2d: 3-35                 [1, 64, 35, 35]           18,432\n",
       "│    │    └─BatchNorm2d: 3-36            [1, 64, 35, 35]           128\n",
       "│    └─BasicConv2d: 2-29                 [1, 96, 35, 35]           --\n",
       "│    │    └─Conv2d: 3-37                 [1, 96, 35, 35]           55,296\n",
       "│    │    └─BatchNorm2d: 3-38            [1, 96, 35, 35]           192\n",
       "│    └─BasicConv2d: 2-30                 [1, 96, 35, 35]           --\n",
       "│    │    └─Conv2d: 3-39                 [1, 96, 35, 35]           82,944\n",
       "│    │    └─BatchNorm2d: 3-40            [1, 96, 35, 35]           192\n",
       "│    └─BasicConv2d: 2-31                 [1, 64, 35, 35]           --\n",
       "│    │    └─Conv2d: 3-41                 [1, 64, 35, 35]           18,432\n",
       "│    │    └─BatchNorm2d: 3-42            [1, 64, 35, 35]           128\n",
       "├─InceptionB: 1-11                       [1, 768, 17, 17]          --\n",
       "│    └─BasicConv2d: 2-32                 [1, 384, 17, 17]          --\n",
       "│    │    └─Conv2d: 3-43                 [1, 384, 17, 17]          995,328\n",
       "│    │    └─BatchNorm2d: 3-44            [1, 384, 17, 17]          768\n",
       "│    └─BasicConv2d: 2-33                 [1, 64, 35, 35]           --\n",
       "│    │    └─Conv2d: 3-45                 [1, 64, 35, 35]           18,432\n",
       "│    │    └─BatchNorm2d: 3-46            [1, 64, 35, 35]           128\n",
       "│    └─BasicConv2d: 2-34                 [1, 96, 35, 35]           --\n",
       "│    │    └─Conv2d: 3-47                 [1, 96, 35, 35]           55,296\n",
       "│    │    └─BatchNorm2d: 3-48            [1, 96, 35, 35]           192\n",
       "│    └─BasicConv2d: 2-35                 [1, 96, 17, 17]           --\n",
       "│    │    └─Conv2d: 3-49                 [1, 96, 17, 17]           82,944\n",
       "│    │    └─BatchNorm2d: 3-50            [1, 96, 17, 17]           192\n",
       "├─InceptionC: 1-12                       [1, 768, 17, 17]          --\n",
       "│    └─BasicConv2d: 2-36                 [1, 192, 17, 17]          --\n",
       "│    │    └─Conv2d: 3-51                 [1, 192, 17, 17]          147,456\n",
       "│    │    └─BatchNorm2d: 3-52            [1, 192, 17, 17]          384\n",
       "│    └─BasicConv2d: 2-37                 [1, 128, 17, 17]          --\n",
       "│    │    └─Conv2d: 3-53                 [1, 128, 17, 17]          98,304\n",
       "│    │    └─BatchNorm2d: 3-54            [1, 128, 17, 17]          256\n",
       "│    └─BasicConv2d: 2-38                 [1, 128, 17, 17]          --\n",
       "│    │    └─Conv2d: 3-55                 [1, 128, 17, 17]          114,688\n",
       "│    │    └─BatchNorm2d: 3-56            [1, 128, 17, 17]          256\n",
       "│    └─BasicConv2d: 2-39                 [1, 192, 17, 17]          --\n",
       "│    │    └─Conv2d: 3-57                 [1, 192, 17, 17]          172,032\n",
       "│    │    └─BatchNorm2d: 3-58            [1, 192, 17, 17]          384\n",
       "│    └─BasicConv2d: 2-40                 [1, 128, 17, 17]          --\n",
       "│    │    └─Conv2d: 3-59                 [1, 128, 17, 17]          98,304\n",
       "│    │    └─BatchNorm2d: 3-60            [1, 128, 17, 17]          256\n",
       "│    └─BasicConv2d: 2-41                 [1, 128, 17, 17]          --\n",
       "│    │    └─Conv2d: 3-61                 [1, 128, 17, 17]          114,688\n",
       "│    │    └─BatchNorm2d: 3-62            [1, 128, 17, 17]          256\n",
       "│    └─BasicConv2d: 2-42                 [1, 128, 17, 17]          --\n",
       "│    │    └─Conv2d: 3-63                 [1, 128, 17, 17]          114,688\n",
       "│    │    └─BatchNorm2d: 3-64            [1, 128, 17, 17]          256\n",
       "│    └─BasicConv2d: 2-43                 [1, 128, 17, 17]          --\n",
       "│    │    └─Conv2d: 3-65                 [1, 128, 17, 17]          114,688\n",
       "│    │    └─BatchNorm2d: 3-66            [1, 128, 17, 17]          256\n",
       "│    └─BasicConv2d: 2-44                 [1, 192, 17, 17]          --\n",
       "│    │    └─Conv2d: 3-67                 [1, 192, 17, 17]          172,032\n",
       "│    │    └─BatchNorm2d: 3-68            [1, 192, 17, 17]          384\n",
       "│    └─BasicConv2d: 2-45                 [1, 192, 17, 17]          --\n",
       "│    │    └─Conv2d: 3-69                 [1, 192, 17, 17]          147,456\n",
       "│    │    └─BatchNorm2d: 3-70            [1, 192, 17, 17]          384\n",
       "├─InceptionC: 1-13                       [1, 768, 17, 17]          --\n",
       "│    └─BasicConv2d: 2-46                 [1, 192, 17, 17]          --\n",
       "│    │    └─Conv2d: 3-71                 [1, 192, 17, 17]          147,456\n",
       "│    │    └─BatchNorm2d: 3-72            [1, 192, 17, 17]          384\n",
       "│    └─BasicConv2d: 2-47                 [1, 160, 17, 17]          --\n",
       "│    │    └─Conv2d: 3-73                 [1, 160, 17, 17]          122,880\n",
       "│    │    └─BatchNorm2d: 3-74            [1, 160, 17, 17]          320\n",
       "│    └─BasicConv2d: 2-48                 [1, 160, 17, 17]          --\n",
       "│    │    └─Conv2d: 3-75                 [1, 160, 17, 17]          179,200\n",
       "│    │    └─BatchNorm2d: 3-76            [1, 160, 17, 17]          320\n",
       "│    └─BasicConv2d: 2-49                 [1, 192, 17, 17]          --\n",
       "│    │    └─Conv2d: 3-77                 [1, 192, 17, 17]          215,040\n",
       "│    │    └─BatchNorm2d: 3-78            [1, 192, 17, 17]          384\n",
       "│    └─BasicConv2d: 2-50                 [1, 160, 17, 17]          --\n",
       "│    │    └─Conv2d: 3-79                 [1, 160, 17, 17]          122,880\n",
       "│    │    └─BatchNorm2d: 3-80            [1, 160, 17, 17]          320\n",
       "│    └─BasicConv2d: 2-51                 [1, 160, 17, 17]          --\n",
       "│    │    └─Conv2d: 3-81                 [1, 160, 17, 17]          179,200\n",
       "│    │    └─BatchNorm2d: 3-82            [1, 160, 17, 17]          320\n",
       "│    └─BasicConv2d: 2-52                 [1, 160, 17, 17]          --\n",
       "│    │    └─Conv2d: 3-83                 [1, 160, 17, 17]          179,200\n",
       "│    │    └─BatchNorm2d: 3-84            [1, 160, 17, 17]          320\n",
       "│    └─BasicConv2d: 2-53                 [1, 160, 17, 17]          --\n",
       "│    │    └─Conv2d: 3-85                 [1, 160, 17, 17]          179,200\n",
       "│    │    └─BatchNorm2d: 3-86            [1, 160, 17, 17]          320\n",
       "│    └─BasicConv2d: 2-54                 [1, 192, 17, 17]          --\n",
       "│    │    └─Conv2d: 3-87                 [1, 192, 17, 17]          215,040\n",
       "│    │    └─BatchNorm2d: 3-88            [1, 192, 17, 17]          384\n",
       "│    └─BasicConv2d: 2-55                 [1, 192, 17, 17]          --\n",
       "│    │    └─Conv2d: 3-89                 [1, 192, 17, 17]          147,456\n",
       "│    │    └─BatchNorm2d: 3-90            [1, 192, 17, 17]          384\n",
       "├─InceptionC: 1-14                       [1, 768, 17, 17]          --\n",
       "│    └─BasicConv2d: 2-56                 [1, 192, 17, 17]          --\n",
       "│    │    └─Conv2d: 3-91                 [1, 192, 17, 17]          147,456\n",
       "│    │    └─BatchNorm2d: 3-92            [1, 192, 17, 17]          384\n",
       "│    └─BasicConv2d: 2-57                 [1, 160, 17, 17]          --\n",
       "│    │    └─Conv2d: 3-93                 [1, 160, 17, 17]          122,880\n",
       "│    │    └─BatchNorm2d: 3-94            [1, 160, 17, 17]          320\n",
       "│    └─BasicConv2d: 2-58                 [1, 160, 17, 17]          --\n",
       "│    │    └─Conv2d: 3-95                 [1, 160, 17, 17]          179,200\n",
       "│    │    └─BatchNorm2d: 3-96            [1, 160, 17, 17]          320\n",
       "│    └─BasicConv2d: 2-59                 [1, 192, 17, 17]          --\n",
       "│    │    └─Conv2d: 3-97                 [1, 192, 17, 17]          215,040\n",
       "│    │    └─BatchNorm2d: 3-98            [1, 192, 17, 17]          384\n",
       "│    └─BasicConv2d: 2-60                 [1, 160, 17, 17]          --\n",
       "│    │    └─Conv2d: 3-99                 [1, 160, 17, 17]          122,880\n",
       "│    │    └─BatchNorm2d: 3-100           [1, 160, 17, 17]          320\n",
       "│    └─BasicConv2d: 2-61                 [1, 160, 17, 17]          --\n",
       "│    │    └─Conv2d: 3-101                [1, 160, 17, 17]          179,200\n",
       "│    │    └─BatchNorm2d: 3-102           [1, 160, 17, 17]          320\n",
       "│    └─BasicConv2d: 2-62                 [1, 160, 17, 17]          --\n",
       "│    │    └─Conv2d: 3-103                [1, 160, 17, 17]          179,200\n",
       "│    │    └─BatchNorm2d: 3-104           [1, 160, 17, 17]          320\n",
       "│    └─BasicConv2d: 2-63                 [1, 160, 17, 17]          --\n",
       "│    │    └─Conv2d: 3-105                [1, 160, 17, 17]          179,200\n",
       "│    │    └─BatchNorm2d: 3-106           [1, 160, 17, 17]          320\n",
       "│    └─BasicConv2d: 2-64                 [1, 192, 17, 17]          --\n",
       "│    │    └─Conv2d: 3-107                [1, 192, 17, 17]          215,040\n",
       "│    │    └─BatchNorm2d: 3-108           [1, 192, 17, 17]          384\n",
       "│    └─BasicConv2d: 2-65                 [1, 192, 17, 17]          --\n",
       "│    │    └─Conv2d: 3-109                [1, 192, 17, 17]          147,456\n",
       "│    │    └─BatchNorm2d: 3-110           [1, 192, 17, 17]          384\n",
       "├─InceptionC: 1-15                       [1, 768, 17, 17]          --\n",
       "│    └─BasicConv2d: 2-66                 [1, 192, 17, 17]          --\n",
       "│    │    └─Conv2d: 3-111                [1, 192, 17, 17]          147,456\n",
       "│    │    └─BatchNorm2d: 3-112           [1, 192, 17, 17]          384\n",
       "│    └─BasicConv2d: 2-67                 [1, 192, 17, 17]          --\n",
       "│    │    └─Conv2d: 3-113                [1, 192, 17, 17]          147,456\n",
       "│    │    └─BatchNorm2d: 3-114           [1, 192, 17, 17]          384\n",
       "│    └─BasicConv2d: 2-68                 [1, 192, 17, 17]          --\n",
       "│    │    └─Conv2d: 3-115                [1, 192, 17, 17]          258,048\n",
       "│    │    └─BatchNorm2d: 3-116           [1, 192, 17, 17]          384\n",
       "│    └─BasicConv2d: 2-69                 [1, 192, 17, 17]          --\n",
       "│    │    └─Conv2d: 3-117                [1, 192, 17, 17]          258,048\n",
       "│    │    └─BatchNorm2d: 3-118           [1, 192, 17, 17]          384\n",
       "│    └─BasicConv2d: 2-70                 [1, 192, 17, 17]          --\n",
       "│    │    └─Conv2d: 3-119                [1, 192, 17, 17]          147,456\n",
       "│    │    └─BatchNorm2d: 3-120           [1, 192, 17, 17]          384\n",
       "│    └─BasicConv2d: 2-71                 [1, 192, 17, 17]          --\n",
       "│    │    └─Conv2d: 3-121                [1, 192, 17, 17]          258,048\n",
       "│    │    └─BatchNorm2d: 3-122           [1, 192, 17, 17]          384\n",
       "│    └─BasicConv2d: 2-72                 [1, 192, 17, 17]          --\n",
       "│    │    └─Conv2d: 3-123                [1, 192, 17, 17]          258,048\n",
       "│    │    └─BatchNorm2d: 3-124           [1, 192, 17, 17]          384\n",
       "│    └─BasicConv2d: 2-73                 [1, 192, 17, 17]          --\n",
       "│    │    └─Conv2d: 3-125                [1, 192, 17, 17]          258,048\n",
       "│    │    └─BatchNorm2d: 3-126           [1, 192, 17, 17]          384\n",
       "│    └─BasicConv2d: 2-74                 [1, 192, 17, 17]          --\n",
       "│    │    └─Conv2d: 3-127                [1, 192, 17, 17]          258,048\n",
       "│    │    └─BatchNorm2d: 3-128           [1, 192, 17, 17]          384\n",
       "│    └─BasicConv2d: 2-75                 [1, 192, 17, 17]          --\n",
       "│    │    └─Conv2d: 3-129                [1, 192, 17, 17]          147,456\n",
       "│    │    └─BatchNorm2d: 3-130           [1, 192, 17, 17]          384\n",
       "├─InceptionD: 1-16                       [1, 1280, 8, 8]           --\n",
       "│    └─BasicConv2d: 2-76                 [1, 192, 17, 17]          --\n",
       "│    │    └─Conv2d: 3-131                [1, 192, 17, 17]          147,456\n",
       "│    │    └─BatchNorm2d: 3-132           [1, 192, 17, 17]          384\n",
       "│    └─BasicConv2d: 2-77                 [1, 320, 8, 8]            --\n",
       "│    │    └─Conv2d: 3-133                [1, 320, 8, 8]            552,960\n",
       "│    │    └─BatchNorm2d: 3-134           [1, 320, 8, 8]            640\n",
       "│    └─BasicConv2d: 2-78                 [1, 192, 17, 17]          --\n",
       "│    │    └─Conv2d: 3-135                [1, 192, 17, 17]          147,456\n",
       "│    │    └─BatchNorm2d: 3-136           [1, 192, 17, 17]          384\n",
       "│    └─BasicConv2d: 2-79                 [1, 192, 17, 17]          --\n",
       "│    │    └─Conv2d: 3-137                [1, 192, 17, 17]          258,048\n",
       "│    │    └─BatchNorm2d: 3-138           [1, 192, 17, 17]          384\n",
       "│    └─BasicConv2d: 2-80                 [1, 192, 17, 17]          --\n",
       "│    │    └─Conv2d: 3-139                [1, 192, 17, 17]          258,048\n",
       "│    │    └─BatchNorm2d: 3-140           [1, 192, 17, 17]          384\n",
       "│    └─BasicConv2d: 2-81                 [1, 192, 8, 8]            --\n",
       "│    │    └─Conv2d: 3-141                [1, 192, 8, 8]            331,776\n",
       "│    │    └─BatchNorm2d: 3-142           [1, 192, 8, 8]            384\n",
       "├─InceptionE: 1-17                       [1, 2048, 8, 8]           --\n",
       "│    └─BasicConv2d: 2-82                 [1, 320, 8, 8]            --\n",
       "│    │    └─Conv2d: 3-143                [1, 320, 8, 8]            409,600\n",
       "│    │    └─BatchNorm2d: 3-144           [1, 320, 8, 8]            640\n",
       "│    └─BasicConv2d: 2-83                 [1, 384, 8, 8]            --\n",
       "│    │    └─Conv2d: 3-145                [1, 384, 8, 8]            491,520\n",
       "│    │    └─BatchNorm2d: 3-146           [1, 384, 8, 8]            768\n",
       "│    └─BasicConv2d: 2-84                 [1, 384, 8, 8]            --\n",
       "│    │    └─Conv2d: 3-147                [1, 384, 8, 8]            442,368\n",
       "│    │    └─BatchNorm2d: 3-148           [1, 384, 8, 8]            768\n",
       "│    └─BasicConv2d: 2-85                 [1, 384, 8, 8]            --\n",
       "│    │    └─Conv2d: 3-149                [1, 384, 8, 8]            442,368\n",
       "│    │    └─BatchNorm2d: 3-150           [1, 384, 8, 8]            768\n",
       "│    └─BasicConv2d: 2-86                 [1, 448, 8, 8]            --\n",
       "│    │    └─Conv2d: 3-151                [1, 448, 8, 8]            573,440\n",
       "│    │    └─BatchNorm2d: 3-152           [1, 448, 8, 8]            896\n",
       "│    └─BasicConv2d: 2-87                 [1, 384, 8, 8]            --\n",
       "│    │    └─Conv2d: 3-153                [1, 384, 8, 8]            1,548,288\n",
       "│    │    └─BatchNorm2d: 3-154           [1, 384, 8, 8]            768\n",
       "│    └─BasicConv2d: 2-88                 [1, 384, 8, 8]            --\n",
       "│    │    └─Conv2d: 3-155                [1, 384, 8, 8]            442,368\n",
       "│    │    └─BatchNorm2d: 3-156           [1, 384, 8, 8]            768\n",
       "│    └─BasicConv2d: 2-89                 [1, 384, 8, 8]            --\n",
       "│    │    └─Conv2d: 3-157                [1, 384, 8, 8]            442,368\n",
       "│    │    └─BatchNorm2d: 3-158           [1, 384, 8, 8]            768\n",
       "│    └─BasicConv2d: 2-90                 [1, 192, 8, 8]            --\n",
       "│    │    └─Conv2d: 3-159                [1, 192, 8, 8]            245,760\n",
       "│    │    └─BatchNorm2d: 3-160           [1, 192, 8, 8]            384\n",
       "├─InceptionE: 1-18                       [1, 2048, 8, 8]           --\n",
       "│    └─BasicConv2d: 2-91                 [1, 320, 8, 8]            --\n",
       "│    │    └─Conv2d: 3-161                [1, 320, 8, 8]            655,360\n",
       "│    │    └─BatchNorm2d: 3-162           [1, 320, 8, 8]            640\n",
       "│    └─BasicConv2d: 2-92                 [1, 384, 8, 8]            --\n",
       "│    │    └─Conv2d: 3-163                [1, 384, 8, 8]            786,432\n",
       "│    │    └─BatchNorm2d: 3-164           [1, 384, 8, 8]            768\n",
       "│    └─BasicConv2d: 2-93                 [1, 384, 8, 8]            --\n",
       "│    │    └─Conv2d: 3-165                [1, 384, 8, 8]            442,368\n",
       "│    │    └─BatchNorm2d: 3-166           [1, 384, 8, 8]            768\n",
       "│    └─BasicConv2d: 2-94                 [1, 384, 8, 8]            --\n",
       "│    │    └─Conv2d: 3-167                [1, 384, 8, 8]            442,368\n",
       "│    │    └─BatchNorm2d: 3-168           [1, 384, 8, 8]            768\n",
       "│    └─BasicConv2d: 2-95                 [1, 448, 8, 8]            --\n",
       "│    │    └─Conv2d: 3-169                [1, 448, 8, 8]            917,504\n",
       "│    │    └─BatchNorm2d: 3-170           [1, 448, 8, 8]            896\n",
       "│    └─BasicConv2d: 2-96                 [1, 384, 8, 8]            --\n",
       "│    │    └─Conv2d: 3-171                [1, 384, 8, 8]            1,548,288\n",
       "│    │    └─BatchNorm2d: 3-172           [1, 384, 8, 8]            768\n",
       "│    └─BasicConv2d: 2-97                 [1, 384, 8, 8]            --\n",
       "│    │    └─Conv2d: 3-173                [1, 384, 8, 8]            442,368\n",
       "│    │    └─BatchNorm2d: 3-174           [1, 384, 8, 8]            768\n",
       "│    └─BasicConv2d: 2-98                 [1, 384, 8, 8]            --\n",
       "│    │    └─Conv2d: 3-175                [1, 384, 8, 8]            442,368\n",
       "│    │    └─BatchNorm2d: 3-176           [1, 384, 8, 8]            768\n",
       "│    └─BasicConv2d: 2-99                 [1, 192, 8, 8]            --\n",
       "│    │    └─Conv2d: 3-177                [1, 192, 8, 8]            393,216\n",
       "│    │    └─BatchNorm2d: 3-178           [1, 192, 8, 8]            384\n",
       "├─AdaptiveAvgPool2d: 1-19                [1, 2048, 1, 1]           --\n",
       "├─Dropout: 1-20                          [1, 2048, 1, 1]           --\n",
       "├─Linear: 1-21                           [1, 1000]                 2,049,000\n",
       "==========================================================================================\n",
       "Total params: 27,161,264\n",
       "Trainable params: 27,161,264\n",
       "Non-trainable params: 0\n",
       "Total mult-adds (Units.GIGABYTES): 5.71\n",
       "==========================================================================================\n",
       "Input size (MB): 1.07\n",
       "Forward/backward pass size (MB): 143.49\n",
       "Params size (MB): 95.34\n",
       "Estimated Total Size (MB): 239.90\n",
       "=========================================================================================="
      ]
     },
     "execution_count": 4,
     "metadata": {},
     "output_type": "execute_result"
    }
   ],
   "source": [
    "model.eval()\n",
    "summary(model, input_size=(1, 3, 299, 299))"
   ]
  },
  {
   "cell_type": "code",
   "execution_count": 5,
   "metadata": {},
   "outputs": [],
   "source": [
    "train_transform = transforms.Compose([\n",
    "    transforms.RandomResizedCrop(299),\n",
    "    transforms.RandomHorizontalFlip(),\n",
    "    transforms.ToTensor(),\n",
    "    transforms.Normalize(mean=[0.485, 0.456, 0.406],\n",
    "                         std=[0.229, 0.224, 0.225])\n",
    "])\n",
    "\n",
    "test_transform = transforms.Compose([\n",
    "    transforms.Resize((299, 299)),\n",
    "    transforms.ToTensor(),\n",
    "    transforms.Normalize(mean=[0.485, 0.456, 0.406],\n",
    "                         std=[0.229, 0.224, 0.225])\n",
    "])"
   ]
  },
  {
   "cell_type": "code",
   "execution_count": 6,
   "metadata": {},
   "outputs": [
    {
     "name": "stdout",
     "output_type": "stream",
     "text": [
      "Files already downloaded and verified\n",
      "Files already downloaded and verified\n"
     ]
    }
   ],
   "source": [
    "trainset = datasets.CIFAR100(\"./data\", train=True, download=True, transform=train_transform)\n",
    "testset = datasets.CIFAR100(\"./data\", train=False, download=True, transform=test_transform)"
   ]
  },
  {
   "cell_type": "code",
   "execution_count": 7,
   "metadata": {},
   "outputs": [],
   "source": [
    "trainloader = torch.utils.data.DataLoader(trainset, batch_size, shuffle=True, num_workers=num_worker, pin_memory=True)\n",
    "testloader = torch.utils.data.DataLoader(testset, batch_size*2, pin_memory=True, num_workers=0)"
   ]
  },
  {
   "cell_type": "code",
   "execution_count": 8,
   "metadata": {},
   "outputs": [],
   "source": [
    "model.aux_logits = False\n",
    "\n",
    "# for parameter in model.parameters():\n",
    "#     parameter.requires_grad = False"
   ]
  },
  {
   "cell_type": "code",
   "execution_count": 9,
   "metadata": {},
   "outputs": [],
   "source": [
    "from torch import nn, optim"
   ]
  },
  {
   "cell_type": "code",
   "execution_count": 10,
   "metadata": {},
   "outputs": [],
   "source": [
    "model.fc = nn.Sequential(\n",
    "    nn.Linear(model.fc.in_features, 100)\n",
    ")"
   ]
  },
  {
   "cell_type": "code",
   "execution_count": 11,
   "metadata": {},
   "outputs": [
    {
     "data": {
      "text/plain": [
       "==========================================================================================\n",
       "Layer (type:depth-idx)                   Output Shape              Param #\n",
       "==========================================================================================\n",
       "Inception3                               [1, 100]                  3,326,696\n",
       "├─BasicConv2d: 1-1                       [1, 32, 149, 149]         --\n",
       "│    └─Conv2d: 2-1                       [1, 32, 149, 149]         864\n",
       "│    └─BatchNorm2d: 2-2                  [1, 32, 149, 149]         64\n",
       "├─BasicConv2d: 1-2                       [1, 32, 147, 147]         --\n",
       "│    └─Conv2d: 2-3                       [1, 32, 147, 147]         9,216\n",
       "│    └─BatchNorm2d: 2-4                  [1, 32, 147, 147]         64\n",
       "├─BasicConv2d: 1-3                       [1, 64, 147, 147]         --\n",
       "│    └─Conv2d: 2-5                       [1, 64, 147, 147]         18,432\n",
       "│    └─BatchNorm2d: 2-6                  [1, 64, 147, 147]         128\n",
       "├─MaxPool2d: 1-4                         [1, 64, 73, 73]           --\n",
       "├─BasicConv2d: 1-5                       [1, 80, 73, 73]           --\n",
       "│    └─Conv2d: 2-7                       [1, 80, 73, 73]           5,120\n",
       "│    └─BatchNorm2d: 2-8                  [1, 80, 73, 73]           160\n",
       "├─BasicConv2d: 1-6                       [1, 192, 71, 71]          --\n",
       "│    └─Conv2d: 2-9                       [1, 192, 71, 71]          138,240\n",
       "│    └─BatchNorm2d: 2-10                 [1, 192, 71, 71]          384\n",
       "├─MaxPool2d: 1-7                         [1, 192, 35, 35]          --\n",
       "├─InceptionA: 1-8                        [1, 256, 35, 35]          --\n",
       "│    └─BasicConv2d: 2-11                 [1, 64, 35, 35]           --\n",
       "│    │    └─Conv2d: 3-1                  [1, 64, 35, 35]           12,288\n",
       "│    │    └─BatchNorm2d: 3-2             [1, 64, 35, 35]           128\n",
       "│    └─BasicConv2d: 2-12                 [1, 48, 35, 35]           --\n",
       "│    │    └─Conv2d: 3-3                  [1, 48, 35, 35]           9,216\n",
       "│    │    └─BatchNorm2d: 3-4             [1, 48, 35, 35]           96\n",
       "│    └─BasicConv2d: 2-13                 [1, 64, 35, 35]           --\n",
       "│    │    └─Conv2d: 3-5                  [1, 64, 35, 35]           76,800\n",
       "│    │    └─BatchNorm2d: 3-6             [1, 64, 35, 35]           128\n",
       "│    └─BasicConv2d: 2-14                 [1, 64, 35, 35]           --\n",
       "│    │    └─Conv2d: 3-7                  [1, 64, 35, 35]           12,288\n",
       "│    │    └─BatchNorm2d: 3-8             [1, 64, 35, 35]           128\n",
       "│    └─BasicConv2d: 2-15                 [1, 96, 35, 35]           --\n",
       "│    │    └─Conv2d: 3-9                  [1, 96, 35, 35]           55,296\n",
       "│    │    └─BatchNorm2d: 3-10            [1, 96, 35, 35]           192\n",
       "│    └─BasicConv2d: 2-16                 [1, 96, 35, 35]           --\n",
       "│    │    └─Conv2d: 3-11                 [1, 96, 35, 35]           82,944\n",
       "│    │    └─BatchNorm2d: 3-12            [1, 96, 35, 35]           192\n",
       "│    └─BasicConv2d: 2-17                 [1, 32, 35, 35]           --\n",
       "│    │    └─Conv2d: 3-13                 [1, 32, 35, 35]           6,144\n",
       "│    │    └─BatchNorm2d: 3-14            [1, 32, 35, 35]           64\n",
       "├─InceptionA: 1-9                        [1, 288, 35, 35]          --\n",
       "│    └─BasicConv2d: 2-18                 [1, 64, 35, 35]           --\n",
       "│    │    └─Conv2d: 3-15                 [1, 64, 35, 35]           16,384\n",
       "│    │    └─BatchNorm2d: 3-16            [1, 64, 35, 35]           128\n",
       "│    └─BasicConv2d: 2-19                 [1, 48, 35, 35]           --\n",
       "│    │    └─Conv2d: 3-17                 [1, 48, 35, 35]           12,288\n",
       "│    │    └─BatchNorm2d: 3-18            [1, 48, 35, 35]           96\n",
       "│    └─BasicConv2d: 2-20                 [1, 64, 35, 35]           --\n",
       "│    │    └─Conv2d: 3-19                 [1, 64, 35, 35]           76,800\n",
       "│    │    └─BatchNorm2d: 3-20            [1, 64, 35, 35]           128\n",
       "│    └─BasicConv2d: 2-21                 [1, 64, 35, 35]           --\n",
       "│    │    └─Conv2d: 3-21                 [1, 64, 35, 35]           16,384\n",
       "│    │    └─BatchNorm2d: 3-22            [1, 64, 35, 35]           128\n",
       "│    └─BasicConv2d: 2-22                 [1, 96, 35, 35]           --\n",
       "│    │    └─Conv2d: 3-23                 [1, 96, 35, 35]           55,296\n",
       "│    │    └─BatchNorm2d: 3-24            [1, 96, 35, 35]           192\n",
       "│    └─BasicConv2d: 2-23                 [1, 96, 35, 35]           --\n",
       "│    │    └─Conv2d: 3-25                 [1, 96, 35, 35]           82,944\n",
       "│    │    └─BatchNorm2d: 3-26            [1, 96, 35, 35]           192\n",
       "│    └─BasicConv2d: 2-24                 [1, 64, 35, 35]           --\n",
       "│    │    └─Conv2d: 3-27                 [1, 64, 35, 35]           16,384\n",
       "│    │    └─BatchNorm2d: 3-28            [1, 64, 35, 35]           128\n",
       "├─InceptionA: 1-10                       [1, 288, 35, 35]          --\n",
       "│    └─BasicConv2d: 2-25                 [1, 64, 35, 35]           --\n",
       "│    │    └─Conv2d: 3-29                 [1, 64, 35, 35]           18,432\n",
       "│    │    └─BatchNorm2d: 3-30            [1, 64, 35, 35]           128\n",
       "│    └─BasicConv2d: 2-26                 [1, 48, 35, 35]           --\n",
       "│    │    └─Conv2d: 3-31                 [1, 48, 35, 35]           13,824\n",
       "│    │    └─BatchNorm2d: 3-32            [1, 48, 35, 35]           96\n",
       "│    └─BasicConv2d: 2-27                 [1, 64, 35, 35]           --\n",
       "│    │    └─Conv2d: 3-33                 [1, 64, 35, 35]           76,800\n",
       "│    │    └─BatchNorm2d: 3-34            [1, 64, 35, 35]           128\n",
       "│    └─BasicConv2d: 2-28                 [1, 64, 35, 35]           --\n",
       "│    │    └─Conv2d: 3-35                 [1, 64, 35, 35]           18,432\n",
       "│    │    └─BatchNorm2d: 3-36            [1, 64, 35, 35]           128\n",
       "│    └─BasicConv2d: 2-29                 [1, 96, 35, 35]           --\n",
       "│    │    └─Conv2d: 3-37                 [1, 96, 35, 35]           55,296\n",
       "│    │    └─BatchNorm2d: 3-38            [1, 96, 35, 35]           192\n",
       "│    └─BasicConv2d: 2-30                 [1, 96, 35, 35]           --\n",
       "│    │    └─Conv2d: 3-39                 [1, 96, 35, 35]           82,944\n",
       "│    │    └─BatchNorm2d: 3-40            [1, 96, 35, 35]           192\n",
       "│    └─BasicConv2d: 2-31                 [1, 64, 35, 35]           --\n",
       "│    │    └─Conv2d: 3-41                 [1, 64, 35, 35]           18,432\n",
       "│    │    └─BatchNorm2d: 3-42            [1, 64, 35, 35]           128\n",
       "├─InceptionB: 1-11                       [1, 768, 17, 17]          --\n",
       "│    └─BasicConv2d: 2-32                 [1, 384, 17, 17]          --\n",
       "│    │    └─Conv2d: 3-43                 [1, 384, 17, 17]          995,328\n",
       "│    │    └─BatchNorm2d: 3-44            [1, 384, 17, 17]          768\n",
       "│    └─BasicConv2d: 2-33                 [1, 64, 35, 35]           --\n",
       "│    │    └─Conv2d: 3-45                 [1, 64, 35, 35]           18,432\n",
       "│    │    └─BatchNorm2d: 3-46            [1, 64, 35, 35]           128\n",
       "│    └─BasicConv2d: 2-34                 [1, 96, 35, 35]           --\n",
       "│    │    └─Conv2d: 3-47                 [1, 96, 35, 35]           55,296\n",
       "│    │    └─BatchNorm2d: 3-48            [1, 96, 35, 35]           192\n",
       "│    └─BasicConv2d: 2-35                 [1, 96, 17, 17]           --\n",
       "│    │    └─Conv2d: 3-49                 [1, 96, 17, 17]           82,944\n",
       "│    │    └─BatchNorm2d: 3-50            [1, 96, 17, 17]           192\n",
       "├─InceptionC: 1-12                       [1, 768, 17, 17]          --\n",
       "│    └─BasicConv2d: 2-36                 [1, 192, 17, 17]          --\n",
       "│    │    └─Conv2d: 3-51                 [1, 192, 17, 17]          147,456\n",
       "│    │    └─BatchNorm2d: 3-52            [1, 192, 17, 17]          384\n",
       "│    └─BasicConv2d: 2-37                 [1, 128, 17, 17]          --\n",
       "│    │    └─Conv2d: 3-53                 [1, 128, 17, 17]          98,304\n",
       "│    │    └─BatchNorm2d: 3-54            [1, 128, 17, 17]          256\n",
       "│    └─BasicConv2d: 2-38                 [1, 128, 17, 17]          --\n",
       "│    │    └─Conv2d: 3-55                 [1, 128, 17, 17]          114,688\n",
       "│    │    └─BatchNorm2d: 3-56            [1, 128, 17, 17]          256\n",
       "│    └─BasicConv2d: 2-39                 [1, 192, 17, 17]          --\n",
       "│    │    └─Conv2d: 3-57                 [1, 192, 17, 17]          172,032\n",
       "│    │    └─BatchNorm2d: 3-58            [1, 192, 17, 17]          384\n",
       "│    └─BasicConv2d: 2-40                 [1, 128, 17, 17]          --\n",
       "│    │    └─Conv2d: 3-59                 [1, 128, 17, 17]          98,304\n",
       "│    │    └─BatchNorm2d: 3-60            [1, 128, 17, 17]          256\n",
       "│    └─BasicConv2d: 2-41                 [1, 128, 17, 17]          --\n",
       "│    │    └─Conv2d: 3-61                 [1, 128, 17, 17]          114,688\n",
       "│    │    └─BatchNorm2d: 3-62            [1, 128, 17, 17]          256\n",
       "│    └─BasicConv2d: 2-42                 [1, 128, 17, 17]          --\n",
       "│    │    └─Conv2d: 3-63                 [1, 128, 17, 17]          114,688\n",
       "│    │    └─BatchNorm2d: 3-64            [1, 128, 17, 17]          256\n",
       "│    └─BasicConv2d: 2-43                 [1, 128, 17, 17]          --\n",
       "│    │    └─Conv2d: 3-65                 [1, 128, 17, 17]          114,688\n",
       "│    │    └─BatchNorm2d: 3-66            [1, 128, 17, 17]          256\n",
       "│    └─BasicConv2d: 2-44                 [1, 192, 17, 17]          --\n",
       "│    │    └─Conv2d: 3-67                 [1, 192, 17, 17]          172,032\n",
       "│    │    └─BatchNorm2d: 3-68            [1, 192, 17, 17]          384\n",
       "│    └─BasicConv2d: 2-45                 [1, 192, 17, 17]          --\n",
       "│    │    └─Conv2d: 3-69                 [1, 192, 17, 17]          147,456\n",
       "│    │    └─BatchNorm2d: 3-70            [1, 192, 17, 17]          384\n",
       "├─InceptionC: 1-13                       [1, 768, 17, 17]          --\n",
       "│    └─BasicConv2d: 2-46                 [1, 192, 17, 17]          --\n",
       "│    │    └─Conv2d: 3-71                 [1, 192, 17, 17]          147,456\n",
       "│    │    └─BatchNorm2d: 3-72            [1, 192, 17, 17]          384\n",
       "│    └─BasicConv2d: 2-47                 [1, 160, 17, 17]          --\n",
       "│    │    └─Conv2d: 3-73                 [1, 160, 17, 17]          122,880\n",
       "│    │    └─BatchNorm2d: 3-74            [1, 160, 17, 17]          320\n",
       "│    └─BasicConv2d: 2-48                 [1, 160, 17, 17]          --\n",
       "│    │    └─Conv2d: 3-75                 [1, 160, 17, 17]          179,200\n",
       "│    │    └─BatchNorm2d: 3-76            [1, 160, 17, 17]          320\n",
       "│    └─BasicConv2d: 2-49                 [1, 192, 17, 17]          --\n",
       "│    │    └─Conv2d: 3-77                 [1, 192, 17, 17]          215,040\n",
       "│    │    └─BatchNorm2d: 3-78            [1, 192, 17, 17]          384\n",
       "│    └─BasicConv2d: 2-50                 [1, 160, 17, 17]          --\n",
       "│    │    └─Conv2d: 3-79                 [1, 160, 17, 17]          122,880\n",
       "│    │    └─BatchNorm2d: 3-80            [1, 160, 17, 17]          320\n",
       "│    └─BasicConv2d: 2-51                 [1, 160, 17, 17]          --\n",
       "│    │    └─Conv2d: 3-81                 [1, 160, 17, 17]          179,200\n",
       "│    │    └─BatchNorm2d: 3-82            [1, 160, 17, 17]          320\n",
       "│    └─BasicConv2d: 2-52                 [1, 160, 17, 17]          --\n",
       "│    │    └─Conv2d: 3-83                 [1, 160, 17, 17]          179,200\n",
       "│    │    └─BatchNorm2d: 3-84            [1, 160, 17, 17]          320\n",
       "│    └─BasicConv2d: 2-53                 [1, 160, 17, 17]          --\n",
       "│    │    └─Conv2d: 3-85                 [1, 160, 17, 17]          179,200\n",
       "│    │    └─BatchNorm2d: 3-86            [1, 160, 17, 17]          320\n",
       "│    └─BasicConv2d: 2-54                 [1, 192, 17, 17]          --\n",
       "│    │    └─Conv2d: 3-87                 [1, 192, 17, 17]          215,040\n",
       "│    │    └─BatchNorm2d: 3-88            [1, 192, 17, 17]          384\n",
       "│    └─BasicConv2d: 2-55                 [1, 192, 17, 17]          --\n",
       "│    │    └─Conv2d: 3-89                 [1, 192, 17, 17]          147,456\n",
       "│    │    └─BatchNorm2d: 3-90            [1, 192, 17, 17]          384\n",
       "├─InceptionC: 1-14                       [1, 768, 17, 17]          --\n",
       "│    └─BasicConv2d: 2-56                 [1, 192, 17, 17]          --\n",
       "│    │    └─Conv2d: 3-91                 [1, 192, 17, 17]          147,456\n",
       "│    │    └─BatchNorm2d: 3-92            [1, 192, 17, 17]          384\n",
       "│    └─BasicConv2d: 2-57                 [1, 160, 17, 17]          --\n",
       "│    │    └─Conv2d: 3-93                 [1, 160, 17, 17]          122,880\n",
       "│    │    └─BatchNorm2d: 3-94            [1, 160, 17, 17]          320\n",
       "│    └─BasicConv2d: 2-58                 [1, 160, 17, 17]          --\n",
       "│    │    └─Conv2d: 3-95                 [1, 160, 17, 17]          179,200\n",
       "│    │    └─BatchNorm2d: 3-96            [1, 160, 17, 17]          320\n",
       "│    └─BasicConv2d: 2-59                 [1, 192, 17, 17]          --\n",
       "│    │    └─Conv2d: 3-97                 [1, 192, 17, 17]          215,040\n",
       "│    │    └─BatchNorm2d: 3-98            [1, 192, 17, 17]          384\n",
       "│    └─BasicConv2d: 2-60                 [1, 160, 17, 17]          --\n",
       "│    │    └─Conv2d: 3-99                 [1, 160, 17, 17]          122,880\n",
       "│    │    └─BatchNorm2d: 3-100           [1, 160, 17, 17]          320\n",
       "│    └─BasicConv2d: 2-61                 [1, 160, 17, 17]          --\n",
       "│    │    └─Conv2d: 3-101                [1, 160, 17, 17]          179,200\n",
       "│    │    └─BatchNorm2d: 3-102           [1, 160, 17, 17]          320\n",
       "│    └─BasicConv2d: 2-62                 [1, 160, 17, 17]          --\n",
       "│    │    └─Conv2d: 3-103                [1, 160, 17, 17]          179,200\n",
       "│    │    └─BatchNorm2d: 3-104           [1, 160, 17, 17]          320\n",
       "│    └─BasicConv2d: 2-63                 [1, 160, 17, 17]          --\n",
       "│    │    └─Conv2d: 3-105                [1, 160, 17, 17]          179,200\n",
       "│    │    └─BatchNorm2d: 3-106           [1, 160, 17, 17]          320\n",
       "│    └─BasicConv2d: 2-64                 [1, 192, 17, 17]          --\n",
       "│    │    └─Conv2d: 3-107                [1, 192, 17, 17]          215,040\n",
       "│    │    └─BatchNorm2d: 3-108           [1, 192, 17, 17]          384\n",
       "│    └─BasicConv2d: 2-65                 [1, 192, 17, 17]          --\n",
       "│    │    └─Conv2d: 3-109                [1, 192, 17, 17]          147,456\n",
       "│    │    └─BatchNorm2d: 3-110           [1, 192, 17, 17]          384\n",
       "├─InceptionC: 1-15                       [1, 768, 17, 17]          --\n",
       "│    └─BasicConv2d: 2-66                 [1, 192, 17, 17]          --\n",
       "│    │    └─Conv2d: 3-111                [1, 192, 17, 17]          147,456\n",
       "│    │    └─BatchNorm2d: 3-112           [1, 192, 17, 17]          384\n",
       "│    └─BasicConv2d: 2-67                 [1, 192, 17, 17]          --\n",
       "│    │    └─Conv2d: 3-113                [1, 192, 17, 17]          147,456\n",
       "│    │    └─BatchNorm2d: 3-114           [1, 192, 17, 17]          384\n",
       "│    └─BasicConv2d: 2-68                 [1, 192, 17, 17]          --\n",
       "│    │    └─Conv2d: 3-115                [1, 192, 17, 17]          258,048\n",
       "│    │    └─BatchNorm2d: 3-116           [1, 192, 17, 17]          384\n",
       "│    └─BasicConv2d: 2-69                 [1, 192, 17, 17]          --\n",
       "│    │    └─Conv2d: 3-117                [1, 192, 17, 17]          258,048\n",
       "│    │    └─BatchNorm2d: 3-118           [1, 192, 17, 17]          384\n",
       "│    └─BasicConv2d: 2-70                 [1, 192, 17, 17]          --\n",
       "│    │    └─Conv2d: 3-119                [1, 192, 17, 17]          147,456\n",
       "│    │    └─BatchNorm2d: 3-120           [1, 192, 17, 17]          384\n",
       "│    └─BasicConv2d: 2-71                 [1, 192, 17, 17]          --\n",
       "│    │    └─Conv2d: 3-121                [1, 192, 17, 17]          258,048\n",
       "│    │    └─BatchNorm2d: 3-122           [1, 192, 17, 17]          384\n",
       "│    └─BasicConv2d: 2-72                 [1, 192, 17, 17]          --\n",
       "│    │    └─Conv2d: 3-123                [1, 192, 17, 17]          258,048\n",
       "│    │    └─BatchNorm2d: 3-124           [1, 192, 17, 17]          384\n",
       "│    └─BasicConv2d: 2-73                 [1, 192, 17, 17]          --\n",
       "│    │    └─Conv2d: 3-125                [1, 192, 17, 17]          258,048\n",
       "│    │    └─BatchNorm2d: 3-126           [1, 192, 17, 17]          384\n",
       "│    └─BasicConv2d: 2-74                 [1, 192, 17, 17]          --\n",
       "│    │    └─Conv2d: 3-127                [1, 192, 17, 17]          258,048\n",
       "│    │    └─BatchNorm2d: 3-128           [1, 192, 17, 17]          384\n",
       "│    └─BasicConv2d: 2-75                 [1, 192, 17, 17]          --\n",
       "│    │    └─Conv2d: 3-129                [1, 192, 17, 17]          147,456\n",
       "│    │    └─BatchNorm2d: 3-130           [1, 192, 17, 17]          384\n",
       "├─InceptionD: 1-16                       [1, 1280, 8, 8]           --\n",
       "│    └─BasicConv2d: 2-76                 [1, 192, 17, 17]          --\n",
       "│    │    └─Conv2d: 3-131                [1, 192, 17, 17]          147,456\n",
       "│    │    └─BatchNorm2d: 3-132           [1, 192, 17, 17]          384\n",
       "│    └─BasicConv2d: 2-77                 [1, 320, 8, 8]            --\n",
       "│    │    └─Conv2d: 3-133                [1, 320, 8, 8]            552,960\n",
       "│    │    └─BatchNorm2d: 3-134           [1, 320, 8, 8]            640\n",
       "│    └─BasicConv2d: 2-78                 [1, 192, 17, 17]          --\n",
       "│    │    └─Conv2d: 3-135                [1, 192, 17, 17]          147,456\n",
       "│    │    └─BatchNorm2d: 3-136           [1, 192, 17, 17]          384\n",
       "│    └─BasicConv2d: 2-79                 [1, 192, 17, 17]          --\n",
       "│    │    └─Conv2d: 3-137                [1, 192, 17, 17]          258,048\n",
       "│    │    └─BatchNorm2d: 3-138           [1, 192, 17, 17]          384\n",
       "│    └─BasicConv2d: 2-80                 [1, 192, 17, 17]          --\n",
       "│    │    └─Conv2d: 3-139                [1, 192, 17, 17]          258,048\n",
       "│    │    └─BatchNorm2d: 3-140           [1, 192, 17, 17]          384\n",
       "│    └─BasicConv2d: 2-81                 [1, 192, 8, 8]            --\n",
       "│    │    └─Conv2d: 3-141                [1, 192, 8, 8]            331,776\n",
       "│    │    └─BatchNorm2d: 3-142           [1, 192, 8, 8]            384\n",
       "├─InceptionE: 1-17                       [1, 2048, 8, 8]           --\n",
       "│    └─BasicConv2d: 2-82                 [1, 320, 8, 8]            --\n",
       "│    │    └─Conv2d: 3-143                [1, 320, 8, 8]            409,600\n",
       "│    │    └─BatchNorm2d: 3-144           [1, 320, 8, 8]            640\n",
       "│    └─BasicConv2d: 2-83                 [1, 384, 8, 8]            --\n",
       "│    │    └─Conv2d: 3-145                [1, 384, 8, 8]            491,520\n",
       "│    │    └─BatchNorm2d: 3-146           [1, 384, 8, 8]            768\n",
       "│    └─BasicConv2d: 2-84                 [1, 384, 8, 8]            --\n",
       "│    │    └─Conv2d: 3-147                [1, 384, 8, 8]            442,368\n",
       "│    │    └─BatchNorm2d: 3-148           [1, 384, 8, 8]            768\n",
       "│    └─BasicConv2d: 2-85                 [1, 384, 8, 8]            --\n",
       "│    │    └─Conv2d: 3-149                [1, 384, 8, 8]            442,368\n",
       "│    │    └─BatchNorm2d: 3-150           [1, 384, 8, 8]            768\n",
       "│    └─BasicConv2d: 2-86                 [1, 448, 8, 8]            --\n",
       "│    │    └─Conv2d: 3-151                [1, 448, 8, 8]            573,440\n",
       "│    │    └─BatchNorm2d: 3-152           [1, 448, 8, 8]            896\n",
       "│    └─BasicConv2d: 2-87                 [1, 384, 8, 8]            --\n",
       "│    │    └─Conv2d: 3-153                [1, 384, 8, 8]            1,548,288\n",
       "│    │    └─BatchNorm2d: 3-154           [1, 384, 8, 8]            768\n",
       "│    └─BasicConv2d: 2-88                 [1, 384, 8, 8]            --\n",
       "│    │    └─Conv2d: 3-155                [1, 384, 8, 8]            442,368\n",
       "│    │    └─BatchNorm2d: 3-156           [1, 384, 8, 8]            768\n",
       "│    └─BasicConv2d: 2-89                 [1, 384, 8, 8]            --\n",
       "│    │    └─Conv2d: 3-157                [1, 384, 8, 8]            442,368\n",
       "│    │    └─BatchNorm2d: 3-158           [1, 384, 8, 8]            768\n",
       "│    └─BasicConv2d: 2-90                 [1, 192, 8, 8]            --\n",
       "│    │    └─Conv2d: 3-159                [1, 192, 8, 8]            245,760\n",
       "│    │    └─BatchNorm2d: 3-160           [1, 192, 8, 8]            384\n",
       "├─InceptionE: 1-18                       [1, 2048, 8, 8]           --\n",
       "│    └─BasicConv2d: 2-91                 [1, 320, 8, 8]            --\n",
       "│    │    └─Conv2d: 3-161                [1, 320, 8, 8]            655,360\n",
       "│    │    └─BatchNorm2d: 3-162           [1, 320, 8, 8]            640\n",
       "│    └─BasicConv2d: 2-92                 [1, 384, 8, 8]            --\n",
       "│    │    └─Conv2d: 3-163                [1, 384, 8, 8]            786,432\n",
       "│    │    └─BatchNorm2d: 3-164           [1, 384, 8, 8]            768\n",
       "│    └─BasicConv2d: 2-93                 [1, 384, 8, 8]            --\n",
       "│    │    └─Conv2d: 3-165                [1, 384, 8, 8]            442,368\n",
       "│    │    └─BatchNorm2d: 3-166           [1, 384, 8, 8]            768\n",
       "│    └─BasicConv2d: 2-94                 [1, 384, 8, 8]            --\n",
       "│    │    └─Conv2d: 3-167                [1, 384, 8, 8]            442,368\n",
       "│    │    └─BatchNorm2d: 3-168           [1, 384, 8, 8]            768\n",
       "│    └─BasicConv2d: 2-95                 [1, 448, 8, 8]            --\n",
       "│    │    └─Conv2d: 3-169                [1, 448, 8, 8]            917,504\n",
       "│    │    └─BatchNorm2d: 3-170           [1, 448, 8, 8]            896\n",
       "│    └─BasicConv2d: 2-96                 [1, 384, 8, 8]            --\n",
       "│    │    └─Conv2d: 3-171                [1, 384, 8, 8]            1,548,288\n",
       "│    │    └─BatchNorm2d: 3-172           [1, 384, 8, 8]            768\n",
       "│    └─BasicConv2d: 2-97                 [1, 384, 8, 8]            --\n",
       "│    │    └─Conv2d: 3-173                [1, 384, 8, 8]            442,368\n",
       "│    │    └─BatchNorm2d: 3-174           [1, 384, 8, 8]            768\n",
       "│    └─BasicConv2d: 2-98                 [1, 384, 8, 8]            --\n",
       "│    │    └─Conv2d: 3-175                [1, 384, 8, 8]            442,368\n",
       "│    │    └─BatchNorm2d: 3-176           [1, 384, 8, 8]            768\n",
       "│    └─BasicConv2d: 2-99                 [1, 192, 8, 8]            --\n",
       "│    │    └─Conv2d: 3-177                [1, 192, 8, 8]            393,216\n",
       "│    │    └─BatchNorm2d: 3-178           [1, 192, 8, 8]            384\n",
       "├─AdaptiveAvgPool2d: 1-19                [1, 2048, 1, 1]           --\n",
       "├─Dropout: 1-20                          [1, 2048, 1, 1]           --\n",
       "├─Sequential: 1-21                       [1, 100]                  --\n",
       "│    └─Linear: 2-100                     [1, 100]                  204,900\n",
       "==========================================================================================\n",
       "Total params: 25,317,164\n",
       "Trainable params: 25,317,164\n",
       "Non-trainable params: 0\n",
       "Total mult-adds (Units.GIGABYTES): 5.71\n",
       "==========================================================================================\n",
       "Input size (MB): 1.07\n",
       "Forward/backward pass size (MB): 143.48\n",
       "Params size (MB): 87.96\n",
       "Estimated Total Size (MB): 232.52\n",
       "=========================================================================================="
      ]
     },
     "execution_count": 11,
     "metadata": {},
     "output_type": "execute_result"
    }
   ],
   "source": [
    "model.eval()\n",
    "summary(model, input_size=(1, 3, 299, 299))"
   ]
  },
  {
   "cell_type": "code",
   "execution_count": 12,
   "metadata": {},
   "outputs": [],
   "source": [
    "criterion = nn.CrossEntropyLoss()\n",
    "optimizer = optim.SGD(model.parameters(), lr=max_learning_rate, momentum=0.9, weight_decay=weight_decay, nesterov=nesterov)"
   ]
  },
  {
   "cell_type": "code",
   "execution_count": 13,
   "metadata": {},
   "outputs": [],
   "source": [
    "model.train()\n",
    "model = model.cuda()"
   ]
  },
  {
   "cell_type": "code",
   "execution_count": 14,
   "metadata": {},
   "outputs": [],
   "source": [
    "import time\n",
    "from tqdm import tqdm\n",
    "\n",
    "import torch.nn.functional as F\n",
    "import os"
   ]
  },
  {
   "cell_type": "code",
   "execution_count": 15,
   "metadata": {},
   "outputs": [
    {
     "name": "stderr",
     "output_type": "stream",
     "text": [
      "train: 391it [02:15,  2.89it/s]\n",
      "val: 100%|██████████| 391/391 [00:39<00:00,  9.98it/s]\n",
      "val: 100%|██████████| 40/40 [00:19<00:00,  2.07it/s]\n"
     ]
    },
    {
     "name": "stdout",
     "output_type": "stream",
     "text": [
      "Epoch: 0\tTrain loss: 3.4597\tValid loss: 2.4603\tTrain accuracy: 29.10\tValid top1 accuracy: 35.61\t\n",
      "acc best model save\n",
      "best acc model: epoch 0\n",
      "loss best model save\n",
      "best loss model: epoch 0\n"
     ]
    },
    {
     "name": "stderr",
     "output_type": "stream",
     "text": [
      "train: 391it [02:14,  2.91it/s]\n",
      "val: 100%|██████████| 391/391 [00:38<00:00, 10.03it/s]\n",
      "val: 100%|██████████| 40/40 [00:18<00:00,  2.19it/s]\n"
     ]
    },
    {
     "name": "stdout",
     "output_type": "stream",
     "text": [
      "Epoch: 1\tTrain loss: 2.4602\tValid loss: 1.9191\tTrain accuracy: 40.92\tValid top1 accuracy: 48.81\t\n",
      "acc best model save\n",
      "best acc model: epoch 1\n",
      "loss best model save\n",
      "best loss model: epoch 1\n"
     ]
    },
    {
     "name": "stderr",
     "output_type": "stream",
     "text": [
      "train: 391it [02:14,  2.92it/s]\n",
      "val: 100%|██████████| 391/391 [00:39<00:00,  9.99it/s]\n",
      "val: 100%|██████████| 40/40 [00:18<00:00,  2.22it/s]\n"
     ]
    },
    {
     "name": "stdout",
     "output_type": "stream",
     "text": [
      "Epoch: 2\tTrain loss: 2.0925\tValid loss: 1.6156\tTrain accuracy: 49.93\tValid top1 accuracy: 56.17\t\n",
      "acc best model save\n",
      "best acc model: epoch 2\n",
      "loss best model save\n",
      "best loss model: epoch 2\n"
     ]
    },
    {
     "name": "stderr",
     "output_type": "stream",
     "text": [
      "train: 391it [02:14,  2.92it/s]\n",
      "val: 100%|██████████| 391/391 [00:39<00:00, 10.02it/s]\n",
      "val: 100%|██████████| 40/40 [00:17<00:00,  2.23it/s]\n"
     ]
    },
    {
     "name": "stdout",
     "output_type": "stream",
     "text": [
      "Epoch: 3\tTrain loss: 1.8795\tValid loss: 1.4539\tTrain accuracy: 53.06\tValid top1 accuracy: 60.28\t\n",
      "acc best model save\n",
      "best acc model: epoch 3\n",
      "loss best model save\n",
      "best loss model: epoch 3\n"
     ]
    },
    {
     "name": "stderr",
     "output_type": "stream",
     "text": [
      "train: 391it [02:14,  2.92it/s]\n",
      "val: 100%|██████████| 391/391 [00:39<00:00, 10.00it/s]\n",
      "val: 100%|██████████| 40/40 [00:18<00:00,  2.22it/s]\n"
     ]
    },
    {
     "name": "stdout",
     "output_type": "stream",
     "text": [
      "Epoch: 4\tTrain loss: 1.7418\tValid loss: 1.2025\tTrain accuracy: 58.03\tValid top1 accuracy: 65.70\t\n",
      "acc best model save\n",
      "best acc model: epoch 4\n",
      "loss best model save\n",
      "best loss model: epoch 4\n"
     ]
    },
    {
     "name": "stderr",
     "output_type": "stream",
     "text": [
      "train: 391it [02:14,  2.92it/s]\n",
      "val: 100%|██████████| 391/391 [00:39<00:00,  9.98it/s]\n",
      "val: 100%|██████████| 40/40 [00:18<00:00,  2.21it/s]\n"
     ]
    },
    {
     "name": "stdout",
     "output_type": "stream",
     "text": [
      "Epoch: 5\tTrain loss: 1.6280\tValid loss: 1.2176\tTrain accuracy: 59.12\tValid top1 accuracy: 65.89\t\n",
      "acc best model save\n",
      "best acc model: epoch 5\n"
     ]
    },
    {
     "name": "stderr",
     "output_type": "stream",
     "text": [
      "train: 391it [02:14,  2.91it/s]\n",
      "val: 100%|██████████| 391/391 [00:39<00:00, 10.01it/s]\n",
      "val: 100%|██████████| 40/40 [00:17<00:00,  2.23it/s]\n"
     ]
    },
    {
     "name": "stdout",
     "output_type": "stream",
     "text": [
      "Epoch: 6\tTrain loss: 1.5331\tValid loss: 1.0974\tTrain accuracy: 62.31\tValid top1 accuracy: 68.67\t\n",
      "acc best model save\n",
      "best acc model: epoch 6\n",
      "loss best model save\n",
      "best loss model: epoch 6\n"
     ]
    },
    {
     "name": "stderr",
     "output_type": "stream",
     "text": [
      "train: 391it [02:14,  2.92it/s]\n",
      "val: 100%|██████████| 391/391 [00:39<00:00,  9.99it/s]\n",
      "val: 100%|██████████| 40/40 [00:18<00:00,  2.22it/s]\n"
     ]
    },
    {
     "name": "stdout",
     "output_type": "stream",
     "text": [
      "Epoch: 7\tTrain loss: 1.4553\tValid loss: 1.0268\tTrain accuracy: 64.49\tValid top1 accuracy: 70.80\t\n",
      "acc best model save\n",
      "best acc model: epoch 7\n",
      "loss best model save\n",
      "best loss model: epoch 7\n"
     ]
    },
    {
     "name": "stderr",
     "output_type": "stream",
     "text": [
      "train: 391it [02:14,  2.92it/s]\n",
      "val: 100%|██████████| 391/391 [00:39<00:00, 10.00it/s]\n",
      "val: 100%|██████████| 40/40 [00:17<00:00,  2.22it/s]"
     ]
    },
    {
     "name": "stdout",
     "output_type": "stream",
     "text": [
      "Epoch: 8\tTrain loss: 1.3961\tValid loss: 1.0345\tTrain accuracy: 64.74\tValid top1 accuracy: 70.76\t\n"
     ]
    },
    {
     "name": "stderr",
     "output_type": "stream",
     "text": [
      "\n",
      "train: 391it [02:14,  2.92it/s]\n",
      "val: 100%|██████████| 391/391 [00:39<00:00,  9.99it/s]\n",
      "val: 100%|██████████| 40/40 [00:18<00:00,  2.18it/s]\n"
     ]
    },
    {
     "name": "stdout",
     "output_type": "stream",
     "text": [
      "Epoch: 9\tTrain loss: 1.3309\tValid loss: 0.9682\tTrain accuracy: 67.71\tValid top1 accuracy: 72.69\t\n",
      "acc best model save\n",
      "best acc model: epoch 9\n",
      "loss best model save\n",
      "best loss model: epoch 9\n"
     ]
    },
    {
     "name": "stderr",
     "output_type": "stream",
     "text": [
      "train: 391it [02:14,  2.92it/s]\n",
      "val: 100%|██████████| 391/391 [00:39<00:00,  9.99it/s]\n",
      "val: 100%|██████████| 40/40 [00:17<00:00,  2.23it/s]\n"
     ]
    },
    {
     "name": "stdout",
     "output_type": "stream",
     "text": [
      "Epoch: 10\tTrain loss: 1.2838\tValid loss: 0.9384\tTrain accuracy: 68.33\tValid top1 accuracy: 73.12\t\n",
      "acc best model save\n",
      "best acc model: epoch 10\n",
      "loss best model save\n",
      "best loss model: epoch 10\n"
     ]
    },
    {
     "name": "stderr",
     "output_type": "stream",
     "text": [
      "train: 391it [02:14,  2.92it/s]\n",
      "val: 100%|██████████| 391/391 [00:39<00:00, 10.01it/s]\n",
      "val: 100%|██████████| 40/40 [00:19<00:00,  2.11it/s]"
     ]
    },
    {
     "name": "stdout",
     "output_type": "stream",
     "text": [
      "Epoch: 11\tTrain loss: 1.2419\tValid loss: 0.9859\tTrain accuracy: 68.88\tValid top1 accuracy: 72.98\t\n"
     ]
    },
    {
     "name": "stderr",
     "output_type": "stream",
     "text": [
      "\n",
      "train: 391it [02:14,  2.92it/s]\n",
      "val: 100%|██████████| 391/391 [00:39<00:00,  9.99it/s]\n",
      "val: 100%|██████████| 40/40 [00:17<00:00,  2.23it/s]\n"
     ]
    },
    {
     "name": "stdout",
     "output_type": "stream",
     "text": [
      "Epoch: 12\tTrain loss: 1.2056\tValid loss: 0.9432\tTrain accuracy: 69.22\tValid top1 accuracy: 73.95\t\n",
      "acc best model save\n",
      "best acc model: epoch 12\n"
     ]
    },
    {
     "name": "stderr",
     "output_type": "stream",
     "text": [
      "train: 391it [02:14,  2.92it/s]\n",
      "val: 100%|██████████| 391/391 [00:39<00:00, 10.00it/s]\n",
      "val: 100%|██████████| 40/40 [00:18<00:00,  2.20it/s]\n"
     ]
    },
    {
     "name": "stdout",
     "output_type": "stream",
     "text": [
      "Epoch: 13\tTrain loss: 1.1587\tValid loss: 0.8921\tTrain accuracy: 71.91\tValid top1 accuracy: 74.59\t\n",
      "acc best model save\n",
      "best acc model: epoch 13\n",
      "loss best model save\n",
      "best loss model: epoch 13\n"
     ]
    },
    {
     "name": "stderr",
     "output_type": "stream",
     "text": [
      "train: 391it [02:14,  2.92it/s]\n",
      "val: 100%|██████████| 391/391 [00:39<00:00, 10.00it/s]\n",
      "val: 100%|██████████| 40/40 [00:18<00:00,  2.22it/s]\n"
     ]
    },
    {
     "name": "stdout",
     "output_type": "stream",
     "text": [
      "Epoch: 14\tTrain loss: 1.1246\tValid loss: 0.8792\tTrain accuracy: 72.68\tValid top1 accuracy: 75.45\t\n",
      "acc best model save\n",
      "best acc model: epoch 14\n",
      "loss best model save\n",
      "best loss model: epoch 14\n"
     ]
    },
    {
     "name": "stderr",
     "output_type": "stream",
     "text": [
      "train: 391it [02:14,  2.92it/s]\n",
      "val: 100%|██████████| 391/391 [00:39<00:00,  9.97it/s]\n",
      "val: 100%|██████████| 40/40 [00:18<00:00,  2.22it/s]"
     ]
    },
    {
     "name": "stdout",
     "output_type": "stream",
     "text": [
      "Epoch: 15\tTrain loss: 1.0971\tValid loss: 0.9092\tTrain accuracy: 73.14\tValid top1 accuracy: 74.92\t\n"
     ]
    },
    {
     "name": "stderr",
     "output_type": "stream",
     "text": [
      "\n",
      "train: 391it [02:14,  2.92it/s]\n",
      "val: 100%|██████████| 391/391 [00:39<00:00,  9.98it/s]\n",
      "val: 100%|██████████| 40/40 [00:17<00:00,  2.24it/s]"
     ]
    },
    {
     "name": "stdout",
     "output_type": "stream",
     "text": [
      "Epoch: 16\tTrain loss: 1.0582\tValid loss: 0.9084\tTrain accuracy: 74.10\tValid top1 accuracy: 74.85\t\n"
     ]
    },
    {
     "name": "stderr",
     "output_type": "stream",
     "text": [
      "\n",
      "train: 391it [02:14,  2.92it/s]\n",
      "val: 100%|██████████| 391/391 [00:39<00:00,  9.99it/s]\n",
      "val: 100%|██████████| 40/40 [00:17<00:00,  2.23it/s]\n"
     ]
    },
    {
     "name": "stdout",
     "output_type": "stream",
     "text": [
      "Epoch: 17\tTrain loss: 1.0344\tValid loss: 0.8649\tTrain accuracy: 75.13\tValid top1 accuracy: 76.23\t\n",
      "acc best model save\n",
      "best acc model: epoch 17\n",
      "loss best model save\n",
      "best loss model: epoch 17\n"
     ]
    },
    {
     "name": "stderr",
     "output_type": "stream",
     "text": [
      "train: 391it [02:14,  2.92it/s]\n",
      "val: 100%|██████████| 391/391 [00:39<00:00, 10.01it/s]\n",
      "val: 100%|██████████| 40/40 [00:17<00:00,  2.23it/s]"
     ]
    },
    {
     "name": "stdout",
     "output_type": "stream",
     "text": [
      "Epoch: 18\tTrain loss: 1.0140\tValid loss: 0.9266\tTrain accuracy: 75.25\tValid top1 accuracy: 75.07\t\n"
     ]
    },
    {
     "name": "stderr",
     "output_type": "stream",
     "text": [
      "\n",
      "train: 391it [02:14,  2.92it/s]\n",
      "val: 100%|██████████| 391/391 [00:39<00:00,  9.99it/s]\n",
      "val: 100%|██████████| 40/40 [00:18<00:00,  2.21it/s]\n"
     ]
    },
    {
     "name": "stdout",
     "output_type": "stream",
     "text": [
      "Epoch: 19\tTrain loss: 0.9886\tValid loss: 0.8861\tTrain accuracy: 75.45\tValid top1 accuracy: 76.25\t\n",
      "acc best model save\n",
      "best acc model: epoch 19\n"
     ]
    },
    {
     "name": "stderr",
     "output_type": "stream",
     "text": [
      "train: 391it [02:14,  2.92it/s]\n",
      "val: 100%|██████████| 391/391 [00:39<00:00, 10.00it/s]\n",
      "val: 100%|██████████| 40/40 [00:18<00:00,  2.19it/s]"
     ]
    },
    {
     "name": "stdout",
     "output_type": "stream",
     "text": [
      "Epoch: 20\tTrain loss: 0.9703\tValid loss: 0.9225\tTrain accuracy: 75.80\tValid top1 accuracy: 75.31\t\n"
     ]
    },
    {
     "name": "stderr",
     "output_type": "stream",
     "text": [
      "\n",
      "train: 391it [02:14,  2.91it/s]\n",
      "val: 100%|██████████| 391/391 [00:39<00:00,  9.99it/s]\n",
      "val: 100%|██████████| 40/40 [00:18<00:00,  2.22it/s]\n"
     ]
    },
    {
     "name": "stdout",
     "output_type": "stream",
     "text": [
      "Epoch: 21\tTrain loss: 0.9523\tValid loss: 0.8829\tTrain accuracy: 77.14\tValid top1 accuracy: 76.80\t\n",
      "acc best model save\n",
      "best acc model: epoch 21\n"
     ]
    },
    {
     "name": "stderr",
     "output_type": "stream",
     "text": [
      "train: 391it [02:14,  2.91it/s]\n",
      "val: 100%|██████████| 391/391 [00:39<00:00,  9.98it/s]\n",
      "val: 100%|██████████| 40/40 [00:18<00:00,  2.20it/s]"
     ]
    },
    {
     "name": "stdout",
     "output_type": "stream",
     "text": [
      "Epoch: 22\tTrain loss: 0.9234\tValid loss: 0.9245\tTrain accuracy: 77.45\tValid top1 accuracy: 75.79\t\n"
     ]
    },
    {
     "name": "stderr",
     "output_type": "stream",
     "text": [
      "\n",
      "train: 391it [02:14,  2.92it/s]\n",
      "val: 100%|██████████| 391/391 [00:39<00:00,  9.99it/s]\n",
      "val: 100%|██████████| 40/40 [00:18<00:00,  2.22it/s]"
     ]
    },
    {
     "name": "stdout",
     "output_type": "stream",
     "text": [
      "Epoch: 23\tTrain loss: 0.9048\tValid loss: 0.9191\tTrain accuracy: 78.13\tValid top1 accuracy: 76.27\t\n"
     ]
    },
    {
     "name": "stderr",
     "output_type": "stream",
     "text": [
      "\n",
      "train: 391it [02:14,  2.91it/s]\n",
      "val: 100%|██████████| 391/391 [00:39<00:00, 10.00it/s]\n",
      "val: 100%|██████████| 40/40 [00:18<00:00,  2.22it/s]\n"
     ]
    },
    {
     "name": "stdout",
     "output_type": "stream",
     "text": [
      "Epoch: 24\tTrain loss: 0.8768\tValid loss: 0.8968\tTrain accuracy: 78.89\tValid top1 accuracy: 77.02\t\n",
      "acc best model save\n",
      "best acc model: epoch 24\n"
     ]
    },
    {
     "name": "stderr",
     "output_type": "stream",
     "text": [
      "train: 391it [02:14,  2.92it/s]\n",
      "val: 100%|██████████| 391/391 [00:39<00:00,  9.95it/s]\n",
      "val: 100%|██████████| 40/40 [00:17<00:00,  2.23it/s]"
     ]
    },
    {
     "name": "stdout",
     "output_type": "stream",
     "text": [
      "Epoch: 25\tTrain loss: 0.8727\tValid loss: 0.9025\tTrain accuracy: 79.54\tValid top1 accuracy: 76.97\t\n"
     ]
    },
    {
     "name": "stderr",
     "output_type": "stream",
     "text": [
      "\n",
      "train: 391it [02:13,  2.92it/s]\n",
      "val: 100%|██████████| 391/391 [00:39<00:00,  9.98it/s]\n",
      "val: 100%|██████████| 40/40 [00:18<00:00,  2.21it/s]"
     ]
    },
    {
     "name": "stdout",
     "output_type": "stream",
     "text": [
      "Epoch: 26\tTrain loss: 0.8548\tValid loss: 0.9604\tTrain accuracy: 79.03\tValid top1 accuracy: 76.20\t\n"
     ]
    },
    {
     "name": "stderr",
     "output_type": "stream",
     "text": [
      "\n",
      "train: 391it [02:14,  2.92it/s]\n",
      "val: 100%|██████████| 391/391 [00:39<00:00,  9.97it/s]\n",
      "val: 100%|██████████| 40/40 [00:17<00:00,  2.23it/s]\n"
     ]
    },
    {
     "name": "stdout",
     "output_type": "stream",
     "text": [
      "Epoch: 27\tTrain loss: 0.8359\tValid loss: 0.8940\tTrain accuracy: 79.80\tValid top1 accuracy: 77.24\t\n",
      "acc best model save\n",
      "best acc model: epoch 27\n"
     ]
    },
    {
     "name": "stderr",
     "output_type": "stream",
     "text": [
      "train: 391it [02:14,  2.92it/s]\n",
      "val: 100%|██████████| 391/391 [00:39<00:00,  9.98it/s]\n",
      "val: 100%|██████████| 40/40 [00:18<00:00,  2.19it/s]\n"
     ]
    },
    {
     "name": "stdout",
     "output_type": "stream",
     "text": [
      "Epoch: 28\tTrain loss: 0.8265\tValid loss: 0.8975\tTrain accuracy: 80.57\tValid top1 accuracy: 77.43\t\n",
      "acc best model save\n",
      "best acc model: epoch 28\n"
     ]
    },
    {
     "name": "stderr",
     "output_type": "stream",
     "text": [
      "train: 391it [02:14,  2.92it/s]\n",
      "val: 100%|██████████| 391/391 [00:39<00:00,  9.97it/s]\n",
      "val: 100%|██████████| 40/40 [00:18<00:00,  2.21it/s]"
     ]
    },
    {
     "name": "stdout",
     "output_type": "stream",
     "text": [
      "Epoch: 29\tTrain loss: 0.8134\tValid loss: 0.9069\tTrain accuracy: 80.30\tValid top1 accuracy: 77.09\t\n"
     ]
    },
    {
     "name": "stderr",
     "output_type": "stream",
     "text": [
      "\n",
      "train: 391it [02:14,  2.92it/s]\n",
      "val: 100%|██████████| 391/391 [00:39<00:00,  9.95it/s]\n",
      "val: 100%|██████████| 40/40 [00:18<00:00,  2.21it/s]\n"
     ]
    },
    {
     "name": "stdout",
     "output_type": "stream",
     "text": [
      "Epoch: 30\tTrain loss: 0.7970\tValid loss: 0.9102\tTrain accuracy: 80.97\tValid top1 accuracy: 78.12\t\n",
      "acc best model save\n",
      "best acc model: epoch 30\n"
     ]
    },
    {
     "name": "stderr",
     "output_type": "stream",
     "text": [
      "train: 391it [02:14,  2.92it/s]\n",
      "val: 100%|██████████| 391/391 [00:39<00:00,  9.99it/s]\n",
      "val: 100%|██████████| 40/40 [00:18<00:00,  2.16it/s]"
     ]
    },
    {
     "name": "stdout",
     "output_type": "stream",
     "text": [
      "Epoch: 31\tTrain loss: 0.7851\tValid loss: 0.9424\tTrain accuracy: 80.90\tValid top1 accuracy: 77.84\t\n"
     ]
    },
    {
     "name": "stderr",
     "output_type": "stream",
     "text": [
      "\n",
      "train: 391it [02:14,  2.91it/s]\n",
      "val: 100%|██████████| 391/391 [00:39<00:00, 10.00it/s]\n",
      "val: 100%|██████████| 40/40 [00:18<00:00,  2.13it/s]"
     ]
    },
    {
     "name": "stdout",
     "output_type": "stream",
     "text": [
      "Epoch: 32\tTrain loss: 0.7662\tValid loss: 0.9202\tTrain accuracy: 81.50\tValid top1 accuracy: 77.12\t\n"
     ]
    },
    {
     "name": "stderr",
     "output_type": "stream",
     "text": [
      "\n",
      "train: 391it [02:14,  2.92it/s]\n",
      "val: 100%|██████████| 391/391 [00:39<00:00, 10.01it/s]\n",
      "val: 100%|██████████| 40/40 [00:18<00:00,  2.21it/s]"
     ]
    },
    {
     "name": "stdout",
     "output_type": "stream",
     "text": [
      "Epoch: 33\tTrain loss: 0.7684\tValid loss: 0.9650\tTrain accuracy: 80.19\tValid top1 accuracy: 76.57\t\n"
     ]
    },
    {
     "name": "stderr",
     "output_type": "stream",
     "text": [
      "\n",
      "train: 391it [02:13,  2.92it/s]\n",
      "val: 100%|██████████| 391/391 [00:39<00:00,  9.99it/s]\n",
      "val: 100%|██████████| 40/40 [00:18<00:00,  2.21it/s]"
     ]
    },
    {
     "name": "stdout",
     "output_type": "stream",
     "text": [
      "Epoch: 34\tTrain loss: 0.7516\tValid loss: 0.9400\tTrain accuracy: 81.40\tValid top1 accuracy: 77.42\t\n"
     ]
    },
    {
     "name": "stderr",
     "output_type": "stream",
     "text": [
      "\n",
      "train: 391it [02:14,  2.92it/s]\n",
      "val: 100%|██████████| 391/391 [00:39<00:00, 10.00it/s]\n",
      "val: 100%|██████████| 40/40 [00:18<00:00,  2.20it/s]"
     ]
    },
    {
     "name": "stdout",
     "output_type": "stream",
     "text": [
      "Epoch: 35\tTrain loss: 0.7429\tValid loss: 0.9414\tTrain accuracy: 82.32\tValid top1 accuracy: 77.08\t\n"
     ]
    },
    {
     "name": "stderr",
     "output_type": "stream",
     "text": [
      "\n",
      "train: 391it [02:14,  2.92it/s]\n",
      "val: 100%|██████████| 391/391 [00:39<00:00,  9.99it/s]\n",
      "val: 100%|██████████| 40/40 [00:17<00:00,  2.23it/s]"
     ]
    },
    {
     "name": "stdout",
     "output_type": "stream",
     "text": [
      "Epoch: 36\tTrain loss: 0.7257\tValid loss: 0.9379\tTrain accuracy: 82.37\tValid top1 accuracy: 76.99\t\n"
     ]
    },
    {
     "name": "stderr",
     "output_type": "stream",
     "text": [
      "\n",
      "train: 391it [02:14,  2.92it/s]\n",
      "val: 100%|██████████| 391/391 [00:39<00:00, 10.02it/s]\n",
      "val: 100%|██████████| 40/40 [00:18<00:00,  2.21it/s]\n"
     ]
    },
    {
     "name": "stdout",
     "output_type": "stream",
     "text": [
      "Epoch: 37\tTrain loss: 0.7228\tValid loss: 0.9747\tTrain accuracy: 82.91\tValid top1 accuracy: 78.14\t\n",
      "acc best model save\n",
      "best acc model: epoch 37\n"
     ]
    },
    {
     "name": "stderr",
     "output_type": "stream",
     "text": [
      "train: 391it [02:14,  2.91it/s]\n",
      "val: 100%|██████████| 391/391 [00:39<00:00, 10.02it/s]\n",
      "val: 100%|██████████| 40/40 [00:18<00:00,  2.20it/s]"
     ]
    },
    {
     "name": "stdout",
     "output_type": "stream",
     "text": [
      "Epoch: 38\tTrain loss: 0.7143\tValid loss: 0.9692\tTrain accuracy: 83.24\tValid top1 accuracy: 77.93\t\n"
     ]
    },
    {
     "name": "stderr",
     "output_type": "stream",
     "text": [
      "\n",
      "train: 391it [02:14,  2.92it/s]\n",
      "val: 100%|██████████| 391/391 [00:39<00:00, 10.01it/s]\n",
      "val: 100%|██████████| 40/40 [00:17<00:00,  2.23it/s]"
     ]
    },
    {
     "name": "stdout",
     "output_type": "stream",
     "text": [
      "Epoch: 39\tTrain loss: 0.7004\tValid loss: 0.9842\tTrain accuracy: 83.04\tValid top1 accuracy: 77.86\t\n"
     ]
    },
    {
     "name": "stderr",
     "output_type": "stream",
     "text": [
      "\n",
      "train: 391it [02:14,  2.91it/s]\n",
      "val: 100%|██████████| 391/391 [00:39<00:00,  9.99it/s]\n",
      "val: 100%|██████████| 40/40 [00:17<00:00,  2.23it/s]\n"
     ]
    },
    {
     "name": "stdout",
     "output_type": "stream",
     "text": [
      "Epoch: 40\tTrain loss: 0.6905\tValid loss: 0.9556\tTrain accuracy: 83.79\tValid top1 accuracy: 78.18\t\n",
      "acc best model save\n",
      "best acc model: epoch 40\n"
     ]
    },
    {
     "name": "stderr",
     "output_type": "stream",
     "text": [
      "train: 391it [02:13,  2.92it/s]\n",
      "val: 100%|██████████| 391/391 [00:39<00:00, 10.01it/s]\n",
      "val: 100%|██████████| 40/40 [00:17<00:00,  2.24it/s]"
     ]
    },
    {
     "name": "stdout",
     "output_type": "stream",
     "text": [
      "Epoch: 41\tTrain loss: 0.6813\tValid loss: 0.9942\tTrain accuracy: 82.92\tValid top1 accuracy: 77.43\t\n"
     ]
    },
    {
     "name": "stderr",
     "output_type": "stream",
     "text": [
      "\n",
      "train: 391it [02:14,  2.92it/s]\n",
      "val: 100%|██████████| 391/391 [00:39<00:00, 10.02it/s]\n",
      "val: 100%|██████████| 40/40 [00:17<00:00,  2.23it/s]"
     ]
    },
    {
     "name": "stdout",
     "output_type": "stream",
     "text": [
      "Epoch: 42\tTrain loss: 0.6785\tValid loss: 1.0012\tTrain accuracy: 83.52\tValid top1 accuracy: 76.64\t\n"
     ]
    },
    {
     "name": "stderr",
     "output_type": "stream",
     "text": [
      "\n",
      "train: 391it [02:14,  2.92it/s]\n",
      "val: 100%|██████████| 391/391 [00:39<00:00, 10.01it/s]\n",
      "val: 100%|██████████| 40/40 [00:18<00:00,  2.18it/s]"
     ]
    },
    {
     "name": "stdout",
     "output_type": "stream",
     "text": [
      "Epoch: 43\tTrain loss: 0.6678\tValid loss: 0.9587\tTrain accuracy: 84.36\tValid top1 accuracy: 77.81\t\n"
     ]
    },
    {
     "name": "stderr",
     "output_type": "stream",
     "text": [
      "\n",
      "train: 391it [02:13,  2.92it/s]\n",
      "val: 100%|██████████| 391/391 [00:39<00:00, 10.02it/s]\n",
      "val: 100%|██████████| 40/40 [00:19<00:00,  2.09it/s]"
     ]
    },
    {
     "name": "stdout",
     "output_type": "stream",
     "text": [
      "Epoch: 44\tTrain loss: 0.6571\tValid loss: 1.0294\tTrain accuracy: 84.06\tValid top1 accuracy: 77.57\t\n"
     ]
    },
    {
     "name": "stderr",
     "output_type": "stream",
     "text": [
      "\n",
      "train: 391it [02:13,  2.92it/s]\n",
      "val: 100%|██████████| 391/391 [00:39<00:00, 10.01it/s]\n",
      "val: 100%|██████████| 40/40 [00:19<00:00,  2.09it/s]"
     ]
    },
    {
     "name": "stdout",
     "output_type": "stream",
     "text": [
      "Epoch: 45\tTrain loss: 0.6639\tValid loss: 1.0050\tTrain accuracy: 84.42\tValid top1 accuracy: 77.65\t\n"
     ]
    },
    {
     "name": "stderr",
     "output_type": "stream",
     "text": [
      "\n",
      "train: 391it [02:13,  2.92it/s]\n",
      "val: 100%|██████████| 391/391 [00:39<00:00, 10.01it/s]\n",
      "val: 100%|██████████| 40/40 [00:18<00:00,  2.22it/s]\n"
     ]
    },
    {
     "name": "stdout",
     "output_type": "stream",
     "text": [
      "Epoch: 46\tTrain loss: 0.6503\tValid loss: 0.9617\tTrain accuracy: 84.95\tValid top1 accuracy: 78.56\t\n",
      "acc best model save\n",
      "best acc model: epoch 46\n"
     ]
    },
    {
     "name": "stderr",
     "output_type": "stream",
     "text": [
      "train: 391it [02:14,  2.92it/s]\n",
      "val: 100%|██████████| 391/391 [00:39<00:00, 10.00it/s]\n",
      "val: 100%|██████████| 40/40 [00:18<00:00,  2.21it/s]\n"
     ]
    },
    {
     "name": "stdout",
     "output_type": "stream",
     "text": [
      "Epoch: 47\tTrain loss: 0.6434\tValid loss: 0.9710\tTrain accuracy: 84.74\tValid top1 accuracy: 78.77\t\n",
      "acc best model save\n",
      "best acc model: epoch 47\n"
     ]
    },
    {
     "name": "stderr",
     "output_type": "stream",
     "text": [
      "train: 391it [02:14,  2.92it/s]\n",
      "val: 100%|██████████| 391/391 [00:39<00:00, 10.01it/s]\n",
      "val: 100%|██████████| 40/40 [00:18<00:00,  2.19it/s]"
     ]
    },
    {
     "name": "stdout",
     "output_type": "stream",
     "text": [
      "Epoch: 48\tTrain loss: 0.6413\tValid loss: 0.9958\tTrain accuracy: 84.71\tValid top1 accuracy: 78.00\t\n"
     ]
    },
    {
     "name": "stderr",
     "output_type": "stream",
     "text": [
      "\n",
      "train: 391it [02:13,  2.92it/s]\n",
      "val: 100%|██████████| 391/391 [00:39<00:00, 10.02it/s]\n",
      "val: 100%|██████████| 40/40 [00:18<00:00,  2.21it/s]"
     ]
    },
    {
     "name": "stdout",
     "output_type": "stream",
     "text": [
      "Epoch: 49\tTrain loss: 0.6379\tValid loss: 1.0156\tTrain accuracy: 84.59\tValid top1 accuracy: 77.82\t\n"
     ]
    },
    {
     "name": "stderr",
     "output_type": "stream",
     "text": [
      "\n",
      "train: 391it [02:14,  2.92it/s]\n",
      "val: 100%|██████████| 391/391 [00:39<00:00, 10.00it/s]\n",
      "val: 100%|██████████| 40/40 [00:17<00:00,  2.24it/s]"
     ]
    },
    {
     "name": "stdout",
     "output_type": "stream",
     "text": [
      "Epoch: 50\tTrain loss: 0.6176\tValid loss: 0.9878\tTrain accuracy: 85.77\tValid top1 accuracy: 78.28\t\n"
     ]
    },
    {
     "name": "stderr",
     "output_type": "stream",
     "text": [
      "\n",
      "train: 391it [02:13,  2.92it/s]\n",
      "val: 100%|██████████| 391/391 [00:39<00:00, 10.02it/s]\n",
      "val: 100%|██████████| 40/40 [00:17<00:00,  2.23it/s]"
     ]
    },
    {
     "name": "stdout",
     "output_type": "stream",
     "text": [
      "Epoch: 51\tTrain loss: 0.6183\tValid loss: 1.0513\tTrain accuracy: 85.33\tValid top1 accuracy: 77.41\t\n"
     ]
    },
    {
     "name": "stderr",
     "output_type": "stream",
     "text": [
      "\n",
      "train: 391it [02:14,  2.92it/s]\n",
      "val: 100%|██████████| 391/391 [00:39<00:00, 10.01it/s]\n",
      "val: 100%|██████████| 40/40 [00:18<00:00,  2.13it/s]"
     ]
    },
    {
     "name": "stdout",
     "output_type": "stream",
     "text": [
      "Epoch: 52\tTrain loss: 0.6180\tValid loss: 0.9991\tTrain accuracy: 85.37\tValid top1 accuracy: 78.51\t\n"
     ]
    },
    {
     "name": "stderr",
     "output_type": "stream",
     "text": [
      "\n",
      "train: 391it [02:14,  2.92it/s]\n",
      "val: 100%|██████████| 391/391 [00:39<00:00, 10.00it/s]\n",
      "val: 100%|██████████| 40/40 [00:18<00:00,  2.20it/s]"
     ]
    },
    {
     "name": "stdout",
     "output_type": "stream",
     "text": [
      "Epoch: 53\tTrain loss: 0.6152\tValid loss: 1.0137\tTrain accuracy: 85.61\tValid top1 accuracy: 77.76\t\n"
     ]
    },
    {
     "name": "stderr",
     "output_type": "stream",
     "text": [
      "\n",
      "train: 391it [02:14,  2.92it/s]\n",
      "val: 100%|██████████| 391/391 [00:39<00:00,  9.99it/s]\n",
      "val: 100%|██████████| 40/40 [00:18<00:00,  2.18it/s]"
     ]
    },
    {
     "name": "stdout",
     "output_type": "stream",
     "text": [
      "Epoch: 54\tTrain loss: 0.6107\tValid loss: 1.0047\tTrain accuracy: 85.70\tValid top1 accuracy: 78.01\t\n"
     ]
    },
    {
     "name": "stderr",
     "output_type": "stream",
     "text": [
      "\n",
      "train: 391it [02:13,  2.92it/s]\n",
      "val: 100%|██████████| 391/391 [00:39<00:00, 10.01it/s]\n",
      "val: 100%|██████████| 40/40 [00:17<00:00,  2.24it/s]"
     ]
    },
    {
     "name": "stdout",
     "output_type": "stream",
     "text": [
      "Epoch: 55\tTrain loss: 0.6035\tValid loss: 1.0723\tTrain accuracy: 85.19\tValid top1 accuracy: 77.36\t\n"
     ]
    },
    {
     "name": "stderr",
     "output_type": "stream",
     "text": [
      "\n",
      "train: 33it [00:11,  2.75it/s]\n"
     ]
    },
    {
     "ename": "KeyboardInterrupt",
     "evalue": "",
     "output_type": "error",
     "traceback": [
      "\u001b[0;31m---------------------------------------------------------------------------\u001b[0m",
      "\u001b[0;31mKeyboardInterrupt\u001b[0m                         Traceback (most recent call last)",
      "Cell \u001b[0;32mIn[15], line 122\u001b[0m\n\u001b[1;32m    118\u001b[0m     \u001b[38;5;28;01mreturn\u001b[39;00m model , optimizer, epoch_loss\n\u001b[1;32m    120\u001b[0m \u001b[38;5;28;01mfor\u001b[39;00m epoch \u001b[38;5;129;01min\u001b[39;00m \u001b[38;5;28mrange\u001b[39m(\u001b[38;5;241m0\u001b[39m, num_epoch):\n\u001b[0;32m--> 122\u001b[0m     model, optimizer, train_loss \u001b[38;5;241m=\u001b[39m feed(trainloader, model, criterion, optimizer)\n\u001b[1;32m    123\u001b[0m     train_losses\u001b[38;5;241m.\u001b[39mappend(train_loss)\n\u001b[1;32m    125\u001b[0m     train_top1, _, _, _ \u001b[38;5;241m=\u001b[39m get_eval(trainloader, get_top5\u001b[38;5;241m=\u001b[39m\u001b[38;5;28;01mFalse\u001b[39;00m, get_superclass\u001b[38;5;241m=\u001b[39m\u001b[38;5;28;01mFalse\u001b[39;00m)\n",
      "Cell \u001b[0;32mIn[15], line 109\u001b[0m, in \u001b[0;36mfeed\u001b[0;34m(train_loader, model, criterion, optimizer)\u001b[0m\n\u001b[1;32m    106\u001b[0m     \u001b[38;5;66;03m# nn.utils.clip_grad_value_(self.model.parameters(), self.gradient_clip)   \u001b[39;00m\n\u001b[1;32m    107\u001b[0m     optimizer\u001b[38;5;241m.\u001b[39mstep()\n\u001b[0;32m--> 109\u001b[0m     running_loss \u001b[38;5;241m+\u001b[39m\u001b[38;5;241m=\u001b[39m loss\u001b[38;5;241m.\u001b[39mitem() \u001b[38;5;241m*\u001b[39m X\u001b[38;5;241m.\u001b[39msize(\u001b[38;5;241m0\u001b[39m)\n\u001b[1;32m    111\u001b[0m epoch_loss \u001b[38;5;241m=\u001b[39m running_loss \u001b[38;5;241m/\u001b[39m \u001b[38;5;28mlen\u001b[39m(train_loader\u001b[38;5;241m.\u001b[39mdataset)\n\u001b[1;32m    113\u001b[0m \u001b[38;5;66;03m# lr = self.__get_lr()\u001b[39;00m\n\u001b[1;32m    114\u001b[0m \u001b[38;5;66;03m# self.lr_scheduler.step()\u001b[39;00m\n\u001b[1;32m    115\u001b[0m     \n\u001b[1;32m    116\u001b[0m \u001b[38;5;66;03m# print(f'lr: {lr}')\u001b[39;00m\n",
      "\u001b[0;31mKeyboardInterrupt\u001b[0m: "
     ]
    }
   ],
   "source": [
    "best_loss = 1e10\n",
    "validation_loss = 1e10\n",
    "early_stopping = -1\n",
    "best_acc = 0\n",
    "\n",
    "count_stop_epoch = 0\n",
    "\n",
    "model_save_path = os.path.join('./save', 'iception_v3')\n",
    "\n",
    "train_losses = []\n",
    "valid_losses = []\n",
    "train_acc_list = []\n",
    "valid_top1_list = []\n",
    "valid_top5_list = []\n",
    "valid_superclass_list = []\n",
    "lrs = []\n",
    "\n",
    "class_to_superclass = {\n",
    "    4: 0, 30: 0, 55: 0, 72: 0, 95: 0,\n",
    "    1: 1, 32: 1, 67: 1, 73: 1, 91: 1, \n",
    "    54: 2, 62: 2, 70: 2, 82: 2, 92: 2, \n",
    "    9: 3, 10: 3, 16: 3, 28: 3, 61: 3, \n",
    "    0: 4, 51: 4, 53: 4, 57: 4, 83: 4,\n",
    "    22: 5, 39: 5, 40: 5, 86: 5, 87: 5,\n",
    "    5: 6, 20: 6, 25: 6, 84: 6, 94: 6,\n",
    "    6: 7, 7: 7, 14: 7, 18: 7, 24: 7,\n",
    "    3: 8, 42: 8, 43: 8, 88: 8, 97: 8,\n",
    "    12: 9, 17: 9, 37: 9, 68: 9, 76: 9,\n",
    "    23: 10, 33: 10, 49: 10, 60: 10, 71: 10,\n",
    "    15: 11, 19: 11, 21: 11, 31: 11, 38: 11,\n",
    "    34: 12, 63: 12, 64: 12, 66: 12, 75: 12,\n",
    "    26: 13, 45: 13, 77: 13, 79: 13, 99: 13,\n",
    "    2: 14, 11: 14, 35: 14, 46: 14, 98: 14,\n",
    "    27: 15, 29: 15, 44: 15, 78: 15, 93: 15,\n",
    "    36: 16, 50: 16, 65: 16, 74: 16, 80: 16,\n",
    "    47: 17, 52: 17, 56: 17, 59: 17, 96: 17,\n",
    "    8: 18, 13: 18, 48: 18, 58: 18, 90: 18,\n",
    "    41: 19, 69: 19, 81: 19, 85: 19, 89: 19\n",
    "}\n",
    "\n",
    "torch.cuda.empty_cache()\n",
    "start_time = time.time()\n",
    "\n",
    "def save_best_model(type):\n",
    "        torch.save(model.state_dict(), os.path.join(model_save_path, f'{type}_bset.pt'))\n",
    "        print(f'{type} best model save')\n",
    "        \n",
    "def load_model(self, type):\n",
    "    return torch.load(os.path.join(model_save_path, f'{type}_bset.pt'))\n",
    "\n",
    "def get_eval(data_loader, get_top5=True, get_superclass=True) :\n",
    "        top1_pred = 0\n",
    "        top5_pred = 0\n",
    "        superclass_pred = 0\n",
    "        running_loss = 0\n",
    "        n = 0\n",
    "        with torch.no_grad() :\n",
    "            model.eval()\n",
    "            for X, y_true in tqdm(data_loader, desc='val'):\n",
    "                X = X.to('cuda')\n",
    "                y_true = y_true.to('cuda')\n",
    "                \n",
    "                y_hat = model(X)\n",
    "                y_prob = F.softmax(y_hat, dim=1)\n",
    "                _, predicted_labels = torch.max(y_prob,1)\n",
    "                \n",
    "                loss = criterion(y_hat, y_true)\n",
    "                running_loss += loss.item() * X.size(0)\n",
    "                \n",
    "                n += y_true.size(0)\n",
    "                top1_pred += (predicted_labels == y_true).sum()\n",
    "                \n",
    "                if get_top5:\n",
    "                    _, top5_pred_label = torch.topk(y_prob, 5, dim=1)\n",
    "                    y_true_expanded = y_true.unsqueeze(1)\n",
    "                    top5_pred += (top5_pred_label == y_true_expanded).any(dim=1).sum()\n",
    "\n",
    "                if get_superclass:\n",
    "                    y_true_super = torch.tensor([class_to_superclass[y.item()] for y in y_true])\n",
    "                    pred_super = torch.tensor([class_to_superclass[y.item()] for y in predicted_labels])\n",
    "                    superclass_pred += (y_true_super == pred_super).sum()\n",
    "        \n",
    "        epoch_loss = running_loss / len(data_loader.dataset)\n",
    "        top1 = top5 = superclass = 0\n",
    "        top1 = top1_pred.float() / n\n",
    "        if get_top5:\n",
    "            top5 = top5_pred.float() / n\n",
    "        if get_superclass:\n",
    "            superclass = superclass_pred.float() / n\n",
    "        return top1, top5, superclass, epoch_loss\n",
    "\n",
    "def feed(train_loader, model, criterion, optimizer):\n",
    "    model.train()\n",
    "    running_loss = 0\n",
    "    \n",
    "    for idx, (X, y_true) in tqdm(enumerate(train_loader), desc='train'):\n",
    "        X = X.to('cuda')\n",
    "        y_true = y_true.to('cuda')\n",
    "        \n",
    "        optimizer.zero_grad()\n",
    "        \n",
    "        y_hat  = model(X)\n",
    "        loss = criterion(y_hat, y_true)\n",
    "        loss.backward()\n",
    "        \n",
    "        # nn.utils.clip_grad_value_(self.model.parameters(), self.gradient_clip)   \n",
    "        optimizer.step()\n",
    "        \n",
    "        running_loss += loss.item() * X.size(0)\n",
    "    \n",
    "    epoch_loss = running_loss / len(train_loader.dataset)\n",
    "    \n",
    "    # lr = self.__get_lr()\n",
    "    # self.lr_scheduler.step()\n",
    "        \n",
    "    # print(f'lr: {lr}')\n",
    "    \n",
    "    return model , optimizer, epoch_loss\n",
    "\n",
    "for epoch in range(0, num_epoch):\n",
    "\n",
    "    model, optimizer, train_loss = feed(trainloader, model, criterion, optimizer)\n",
    "    train_losses.append(train_loss)\n",
    "\n",
    "    train_top1, _, _, _ = get_eval(trainloader, get_top5=False, get_superclass=False)\n",
    "    val_top1, val_top5, val_superclass, valid_loss = get_eval(testloader, get_top5=False, get_superclass=False)\n",
    "    valid_losses.append(valid_loss)\n",
    "\n",
    "    train_acc_list.append(train_top1)\n",
    "    valid_top1_list.append(val_top1)\n",
    "    valid_top5_list.append(val_top5)\n",
    "    valid_superclass_list.append(val_superclass)\n",
    "\n",
    "    print(f'Epoch: {epoch}\\t'\n",
    "        f'Train loss: {train_loss:.4f}\\t'\n",
    "        f'Valid loss: {valid_loss:.4f}\\t'\n",
    "        f'Train accuracy: {100 * train_top1:.2f}\\t'\n",
    "        f'Valid top1 accuracy: {100 * val_top1:.2f}\\t'\n",
    "        #   f'Valid top5 accuracy: {100 * val_top5:.2f}\\t'\n",
    "        #   f'Valid superclass accuracy: {100 * val_superclass:.2f}'\n",
    "    )\n",
    "    \n",
    "    if best_acc < val_top1:\n",
    "        best_acc = val_top1\n",
    "        save_best_model('acc')\n",
    "        print(f'best acc model: epoch {epoch}')\n",
    "    if best_loss > valid_loss:\n",
    "        best_loss = valid_loss\n",
    "        count_stop_epoch = 0\n",
    "        save_best_model('loss')\n",
    "        print(f'best loss model: epoch {epoch}')\n",
    "    else:\n",
    "        count_stop_epoch += 1\n",
    "        if early_stopping != -1:\n",
    "            print(f'{early_stopping - count_stop_epoch} left')\n",
    "            if count_stop_epoch == early_stopping:\n",
    "                print(f\"Early Stopping\")\n",
    "                break\n",
    "\n",
    "end_time = time.time()\n",
    "time_diff = end_time - start_time\n",
    "save_best_model('last')\n",
    "print(f'training time: {time_diff // 3600}h {time_diff % 3600 // 60}m {time_diff % 3600 % 60}')"
   ]
  },
  {
   "cell_type": "code",
   "execution_count": null,
   "metadata": {},
   "outputs": [],
   "source": []
  }
 ],
 "metadata": {
  "kernelspec": {
   "display_name": "base",
   "language": "python",
   "name": "python3"
  },
  "language_info": {
   "codemirror_mode": {
    "name": "ipython",
    "version": 3
   },
   "file_extension": ".py",
   "mimetype": "text/x-python",
   "name": "python",
   "nbconvert_exporter": "python",
   "pygments_lexer": "ipython3",
   "version": "3.12.4"
  }
 },
 "nbformat": 4,
 "nbformat_minor": 2
}
